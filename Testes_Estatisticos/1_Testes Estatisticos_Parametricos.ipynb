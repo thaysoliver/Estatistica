{
 "cells": [
  {
   "cell_type": "markdown",
   "metadata": {},
   "source": [
    "# Testes Estatísticos\n",
    "\n",
    "   Cada teste estatístico tem uma aplicação. É bem normal sofrermos no começo, porque é muita informação. Mas ser cientista de dados envolve mudanças de hábitos e uma delas é ter insistência, que com o tempo o seu cérebro vai aceitar e entender isso cada vez melhor. Não desista e não reclame da quantidade de esforço necessária... se quer ser, seja. Delicie-se com o lado bom e saiba lidar com os lados tenebrosos. Você não é o único =]\n",
    "   \n",
    "   Legendas:\n",
    "   * <code style=\"color:green\">Explicação Conteúdo</code>\n",
    "   * <code style=\"color:purple\">Dicas</code>\n",
    "   * <code style=\"color:red\">Prática</code>\n",
    "   * <code style=\"color:gray\">Contexto Negócio</code>"
   ]
  },
  {
   "cell_type": "markdown",
   "metadata": {},
   "source": [
    "### <code style=\"color:green\">Testes Estatísticos\n",
    "    \n",
    "    Testes estatísticos são muito úteis e necessários para sanarmos respostas rápidas e importantes pro entendimento do negócio.\n",
    "    As vezes é muito difícil entender o que essa frase de cima significa né? Mas posso compartilhar minha história com você e verá o quanto isso é útil num contexto de negócio (tomada de decisão).\n",
    "    Tenha em mente que sempre que eu usar o termo \"negócio\" eu estou falando sobre o contexto do problema que estivermos tratando. \n",
    "    Outros termos que são importantes serem relembrados:\n",
    "        - p-valor\n",
    "        - nível de confiança\n",
    "        - nível de significância\n",
    "        - intervalo de confiança\n",
    "        - teste bicaudal ou unilateral\n",
    "        - Que o tamanho da rosquinha não é o nerd que decide"
   ]
  },
  {
   "cell_type": "markdown",
   "metadata": {},
   "source": [
    "### <code style=\"color:gray\">Contexto Negócio </code>\n",
    "    \n",
    "    Eu sempre amei dar aula, desde pequena e conforme fui crescendo a hipótese de que Educação é necessária para o planeta, eu decidi me dedicar à educação (foco em análise de dados) em tempo integral!   \n",
    "    \n",
    "    Abri uma empresa! Nunca tinha empreendido, não tinha feito curso disso e já estava extremamente envolvida com o projeto, trabalhando de manhã cedo nele, indo trabalhar na empresa que estava como Diretora de Analytics, voltando, trabalhando nele e dale finais de semanas inteiros trabalhando nisso, junto com um monte de gente que me apoiou!    \n",
    "    Olhando agora eu fico felizona de notar que não existe nada que consigamos fazer sozinhos, então sorrio porque fui capaz de entender que a melhoria constante vem da união.\n",
    "\n",
    "    E essa é a minha luta hoje, é fazer meus alunos verem os números com outros olhos, entendendo que isso é um \"estilo de vida\". Nunca saberemos tudo, mas que a rotina de evolução se faz necessária. E vem sendo minha missão junto com os que se tornam meus alunos!    \n",
    "    \n",
    "    E infelizmente noto que existe muito sofrimento, muita desistências, muitas frustração e o pior de tudo... dado real... já tive turmas, onde 60% dos alunos estavam tratando depresão e ansiedade.   \n",
    "    Isso é um problema grave, porque isso impede a evolução da área, a evolução da espécie!!! O que eu mais quero são pessoas com tesão gigante em trabalhar com ciência de dados para melhorar o mundo e nos dar mais tempo (automatizando atividades que não exigem do nosso cérebro) para explorarmos coisas que ainda não tivemos nem tempo de pensar!!!    \n",
    "    \n",
    "    Sendo assim, decidi abrir uma empresa! E comecei oferecendo cursos in company (dados meus contatos e já quase 13 anos de mercado de trabalho fazendo apresentações em eventos, clientes e internet)... o que me permitiu abrir o escritório da ASN.Rocks na Vila Olímpia.   \n",
    "    Os cursos começaram e o trabalho cresceu muito rápido. Fora ter que pensar qual mesa comprar e mobiliar o lugar para receber alunos!!!   \n",
    "    Deu tudo certo e depois de 8 meses, pandemia fechou tudo... e tivemos que nos reinventar... e foi tudo extremamente puxado e é bastante trabalho para uma pessoa só e foi onde eu comecei a aprender como delegar. Mas confesso que é muito difícil fazer a gestão de tudo (olha aí onde análise de dados pode ajudar) e alguns pratos caem, depois tentamos colar os caquinhos e foi nesse momento que entendi o que é uma empresa!!!!   \n",
    "    Levando muito na cara, descobri que uma empresa nada mais é do que uma gestão mega bem feita para atingir um objetivo!!!  \n",
    "    \n",
    "    E a única forma de um ser humano conseguir fazer isso é tento tudo que acontece pelas suas costas (enquanto estou fazendo esse código, por exemplo) documentado em forma de dados. E ai, para entender o que está nesses conjuntos de dados é necessário analisá-los (estatística)...   \n",
    "    E claro, que como uma empresa tem muitos desafios, um presidente tem seus diretores, que são responsáveis por partes estratégicas para a empresa funcionar:   \n",
    "   * RH\n",
    "       * Você vai precisar fazer a gestão das pessoas que vão entrar pro time, certo?\n",
    "       * Fazer feedbacks (como você diz como está indo se você não tem tempo para entender no dia a dia o que seu colaborador está fazendo)\n",
    "       * Pagar salários na data (aqui envolve uma gestão financeira da empresa que exige muito cuidado e que sem dúvida nenhuma, ter uma gestão através de análise de tudo que acontece com o capital de giro ajudará demais!!!\n",
    "   * Financeiro\n",
    "       * Onde você vai armazernar o dinheiro, como ele está sendo utilizado, em coisas que realmente seja estratégicas para a empresa?\n",
    "       * Qual melhor projeto para investir?\n",
    "   * Marketing\n",
    "       * Será que estamos satisfazendo a necessidade de nossos alunos?\n",
    "       * O que podemos aprender com os feedbacks?\n",
    "       * Como podemos atrair mais pessoas para essa mudança que entendermos ajudar na evolução da espécie?\n",
    "       * Como podemos mudar nossa forma de ensinar conforme aprendemos com o feedback dos alunos?\n",
    "        \n",
    "    Aqui não temos esses diretores, então tudo se concentra em mim.\n",
    "    Reparem que existem outras milhares de possibilidades... mas vocês notam que no meu contexto de negócio (nossa escola ASN.Rocks) eu sofro com falta de capacidade de agir. Não sobra tempo então estou tentando usar dados (isso é dificil porque exige muita organização e não sobra tempo para pensar) e fazer isso virar uma rotina aos poucos.\n",
    "    Meu foco nesse momento está em entender a qualidade do que ofereço para meus alunos e estudar se estou indo no caminho de trazer cada vez mais e mais pessoas para essa nova rotina e postura. Ser Data Driven é um estido de vida (exige ajustes de rotina).\n",
    "    \n",
    "    Tudo isso para dizer que testes estatísticos me ajudam muito a entender meu contexto, ajustar rotas e definir melhores caminhos... vamos ver?\n"
   ]
  },
  {
   "cell_type": "markdown",
   "metadata": {},
   "source": [
    "### <code style=\"color:purple\">Dicas: </code>\n",
    "    \n",
    "Vejam só os tipos de dúvidas que vamos ser capazes de esclarecer om testes de hipóteses, pensando em tudo que vem acontecendo na empresa:\n",
    "    \n",
    "    1. Será que temos diversidade de gênero dentre nossos alunos?    \n",
    "    2. A proporção de alunos que chegam até o final de nossos cursos é maior que 0,8 (80% de nossos alunos)?    \n",
    "    3. Como é a variabilidade da idade dos meus alunos em relação ao sexo? Será que alunos homens tem idades mais parecidas do que entre as mulheres?    \n",
    "    4. Será que a média de nota dos meus alunos no início do curso é maior que 7?    \n",
    "    5. Será que a média de nota entre homens e mulheres é a mesma? Ou podemos notar desempenhos diferentes?    \n",
    "    6. Será que a média da nota dos alunos muda confirma a faixa de idade que pertence? (será que quanto mais velhos ou mais novos nos dedicamos mais aos estudos?    \n",
    "    7. Será que a média da nota dos alunos muda confirma a faixa de idade que pertence e mais o gênero??     \n",
    "    8. Será que os professores da ASN são igualmente avaliados? (aluno ter preferência é bom pro ego e produtividade do professor, mas é bem ruim para empresa, pois limita as opções, certo?)    \n",
    "    9. Será que o número médio de novos alunos muda de turma para turma? Ou estamos constantes?    \n",
    "    10. Quais são as idades das turmas que trabalhamos? Entre nossos cursos a média das idades é a mesma ou temos cursos que são de mais jovens ou mais experientes?    \n",
    "    11. Será que alguns de nossos cursos são mais adotados por iniciantes, juniores, plenos ou seniores?    \n",
    "    12. Será que após nossos cursos, os alunos mudam seus desempenhos de notas em testes relacionados à ciência de dados?    \n",
    "    13. Será que conforme a estação do anos, os alunos mudam a quantidade de trabalhos entregues?    \n",
    "    14. Será que determinada forma de ministrar uma aula aumenta o desempenho do alunos nos cases propostos?    \n",
    "    15. Será que os alunos estão dispostos a adotar boas práticas no dia a dia do seu trabalho com dados? Qual boa prática estão mais dispostos a adotar?    \n",
    "    16. Será que ao longo do curso os alunos vão evoulindo o seu desempenho em notas? Antes do curso, Durante o curso e após o curso?    "
   ]
  },
  {
   "cell_type": "markdown",
   "metadata": {},
   "source": [
    "### <code style=\"color:green\">Testes Estatísticos </code>\n",
    "    \n",
    "    Testes estatísticos são divididos em 2 grandes grupos:\n",
    "   * Testes paramétricos\n",
    "        * envolvem parâmetros populacionais para dados quantitativos\n",
    "        * são mais robustos (acendem a luz)\n",
    "        * tem regras para serem utilizados\n",
    "    \n",
    "   * Testes não paramétricos\n",
    "        * as hipóteses sao formuladas sobre características qualitativas da população\n",
    "        * são menos robustos (acendem uma vela)\n",
    "        * são testes livres de distribuição (sem regras)\n",
    "    \n",
    "    \n",
    "    Existem muitos testes, conheceremos os mais utilizados. Veja conforme o mapa mental (arquivo em pdf):\n",
    "\n",
    "    "
   ]
  },
  {
   "attachments": {
    "mapa_pequeno.JPG": {
     "image/jpeg": "[encoded data removed]"
    }
   },
   "cell_type": "markdown",
   "metadata": {},
   "source": [
    "![mapa_pequeno.JPG](attachment:mapa_pequeno.JPG)"
   ]
  },
  {
   "cell_type": "markdown",
   "metadata": {},
   "source": [
    "Carregando o que será necessário:"
   ]
  },
  {
   "cell_type": "code",
   "execution_count": 3,
   "metadata": {},
   "outputs": [],
   "source": [
    "import scipy.stats as stats\n",
    "import numpy as np\n",
    "import pandas as pd\n",
    "import matplotlib.pyplot as plt\n",
    "import seaborn as sns\n",
    "import statsmodels as statsmodels\n",
    "from scipy.stats import chi2_contingency\n",
    "from statsmodels.stats.contingency_tables import mcnemar\n",
    "from statsmodels.formula.api import ols\n",
    "from statsmodels.stats.anova import anova_lm"
   ]
  },
  {
   "cell_type": "markdown",
   "metadata": {},
   "source": [
    "### <code style=\"color:green\">Testes Estatísticos Paramétricos </code>\n",
    "    \n",
    "   * Testes de Normalidade\n",
    "   * Teste de homogeneidade de variância\n",
    "   * Teste de Comparação de Médias"
   ]
  },
  {
   "cell_type": "markdown",
   "metadata": {},
   "source": [
    "### <code style=\"color:green\">Testes de Normalidade </code>\n",
    "    \n",
    " * Conhecidos como teste de aderência. Existem vários, conhecemos o:\n",
    "     * Teste de kolmogorov - Smirnov (KS) (usado quando n > 30)\n",
    "                 H0: a amostra é normal\n",
    "                 H1: a amostra não é normal\n",
    "     * Teste de Shapiro Wilks (usado quando 4 <= n <= 2.000)\n",
    "                 H0: a amostra é normal\n",
    "                 H1: a amostra não é normal"
   ]
  },
  {
   "cell_type": "markdown",
   "metadata": {},
   "source": [
    "### <code style=\"color:red\">Exemplo </code>\n",
    "    \n",
    "Criamos uma variável aleatória chamada x, conforme uma distrubuição normal e outra com a distribuição uniforme apenas para ver como funciona a chamada do teste de normalidade."
   ]
  },
  {
   "cell_type": "code",
   "execution_count": 2,
   "metadata": {},
   "outputs": [],
   "source": [
    "# criando o objeto x que é nossa variável aleatória gerada conforme uma distribuição normal com 1 mil obervações\n",
    "x = np.random.normal(size=1000) "
   ]
  },
  {
   "cell_type": "code",
   "execution_count": 3,
   "metadata": {},
   "outputs": [],
   "source": [
    "# criando um objetivo novo W que é uma variável aleatória gerada pela distribuição uniforme com 2 mil e 300 obervações\n",
    "W =  np.random.uniform(size=2300)"
   ]
  },
  {
   "cell_type": "markdown",
   "metadata": {},
   "source": [
    "### <code style=\"color:green\">1) Teste de kolmogorov - Smirnov (KS) </code>\n",
    "    Utilizado quando n > 30\n",
    "        H0: amostra provém de uma população normal\n",
    "        H1: amostra nao provém de uma população normal"
   ]
  },
  {
   "cell_type": "code",
   "execution_count": 4,
   "metadata": {},
   "outputs": [
    {
     "data": {
      "text/plain": [
       "KstestResult(statistic=0.033350982447051036, pvalue=0.21121067081969447)"
      ]
     },
     "execution_count": 4,
     "metadata": {},
     "output_type": "execute_result"
    }
   ],
   "source": [
    "# como o n é maior que 30, pode optar pelo teste KS\n",
    "# H0: amostra provém de uma população normal\n",
    "# H1: amostra nao provém de uma população normal\n",
    "stats.kstest(x,'norm')\n",
    "# note que pelo p-valor não rejeito H0, ou seja, meus dados seguem uma normal"
   ]
  },
  {
   "cell_type": "code",
   "execution_count": 5,
   "metadata": {},
   "outputs": [
    {
     "data": {
      "text/plain": [
       "(array([  8.,  31.,  78., 190., 231., 213., 151.,  66.,  28.,   4.]),\n",
       " array([-2.99028491, -2.38974012, -1.78919534, -1.18865055, -0.58810577,\n",
       "         0.01243902,  0.6129838 ,  1.21352859,  1.81407337,  2.41461816,\n",
       "         3.01516295]),\n",
       " <a list of 10 Patch objects>)"
      ]
     },
     "execution_count": 5,
     "metadata": {},
     "output_type": "execute_result"
    },
    {
     "data": {
      "image/png": "[encoded data removed]",
      "text/plain": [
       "<Figure size 432x288 with 1 Axes>"
      ]
     },
     "metadata": {
      "needs_background": "light"
     },
     "output_type": "display_data"
    }
   ],
   "source": [
    "# é sempre interessante aproveitar e dar uma olhadinha também a fim de observar a normalidade (neste caso bem visível):\n",
    "plt.hist(x)"
   ]
  },
  {
   "cell_type": "markdown",
   "metadata": {},
   "source": [
    "### <code style=\"color:green\">2) Teste de Shapiro Wilks </code>\n",
    "    \n",
    "    Utilizado quando 4 <= n <= 2.000\n",
    "        H0: amostra provém de uma população normal\n",
    "        H1: amostra nao provém de uma população normal"
   ]
  },
  {
   "cell_type": "code",
   "execution_count": null,
   "metadata": {},
   "outputs": [],
   "source": [
    "# como o n é maior que 4 e menor que 2000, pode-se optar por este teste\n",
    "# e não há nada que garanta que ele chegue na mesma conclusão que o outro teste\n",
    "stats.shapiro(x)\n",
    "# note que pelo p-valor não rejeito H0, ou seja, meus dados seguem uma normal"
   ]
  },
  {
   "cell_type": "markdown",
   "metadata": {},
   "source": [
    "### <code style=\"color:red\">Prática </code>\n",
    "    \n",
    "Criamos a variável aleatória W e queremos saber se ela segue uma distribuição. Qual o teste adequado e qual a conclusão?"
   ]
  },
  {
   "cell_type": "markdown",
   "metadata": {},
   "source": [
    "### <code style=\"color:green\">3) Testes de homogeneidade de variância </code>\n",
    "    \n",
    " * Verifica se a variância entre k amostras são homogêneas:\n",
    "     * Teste F de Levene\n",
    "                 H0: var_A = var_B = var_C \n",
    "                 H1: pelo menos uma diferente"
   ]
  },
  {
   "cell_type": "markdown",
   "metadata": {},
   "source": [
    "### <code style=\"color:red\">Exemplo </code>\n",
    "    \n",
    "    Mediu-se o peso de vacas jovens e adultas e deseja-se saber se em alguma das faixas de idade trazem mais instabilidade (variabilidade) no peso do animal. A base de dados chama pesos.xlsx"
   ]
  },
  {
   "cell_type": "code",
   "execution_count": 17,
   "metadata": {},
   "outputs": [
    {
     "data": {
      "text/html": [
       "<div>\n",
       "<style scoped>\n",
       "    .dataframe tbody tr th:only-of-type {\n",
       "        vertical-align: middle;\n",
       "    }\n",
       "\n",
       "    .dataframe tbody tr th {\n",
       "        vertical-align: top;\n",
       "    }\n",
       "\n",
       "    .dataframe thead th {\n",
       "        text-align: right;\n",
       "    }\n",
       "</style>\n",
       "<table border=\"1\" class=\"dataframe\">\n",
       "  <thead>\n",
       "    <tr style=\"text-align: right;\">\n",
       "      <th></th>\n",
       "      <th>peso</th>\n",
       "      <th>faixa</th>\n",
       "    </tr>\n",
       "  </thead>\n",
       "  <tbody>\n",
       "    <tr>\n",
       "      <th>0</th>\n",
       "      <td>516.268190</td>\n",
       "      <td>jovem</td>\n",
       "    </tr>\n",
       "    <tr>\n",
       "      <th>1</th>\n",
       "      <td>540.235001</td>\n",
       "      <td>jovem</td>\n",
       "    </tr>\n",
       "    <tr>\n",
       "      <th>2</th>\n",
       "      <td>484.336066</td>\n",
       "      <td>jovem</td>\n",
       "    </tr>\n",
       "    <tr>\n",
       "      <th>3</th>\n",
       "      <td>498.419383</td>\n",
       "      <td>jovem</td>\n",
       "    </tr>\n",
       "    <tr>\n",
       "      <th>4</th>\n",
       "      <td>460.626614</td>\n",
       "      <td>jovem</td>\n",
       "    </tr>\n",
       "    <tr>\n",
       "      <th>...</th>\n",
       "      <td>...</td>\n",
       "      <td>...</td>\n",
       "    </tr>\n",
       "    <tr>\n",
       "      <th>633</th>\n",
       "      <td>606.697125</td>\n",
       "      <td>adulto</td>\n",
       "    </tr>\n",
       "    <tr>\n",
       "      <th>634</th>\n",
       "      <td>602.982121</td>\n",
       "      <td>adulto</td>\n",
       "    </tr>\n",
       "    <tr>\n",
       "      <th>635</th>\n",
       "      <td>584.651567</td>\n",
       "      <td>adulto</td>\n",
       "    </tr>\n",
       "    <tr>\n",
       "      <th>636</th>\n",
       "      <td>600.200733</td>\n",
       "      <td>adulto</td>\n",
       "    </tr>\n",
       "    <tr>\n",
       "      <th>637</th>\n",
       "      <td>601.999458</td>\n",
       "      <td>adulto</td>\n",
       "    </tr>\n",
       "  </tbody>\n",
       "</table>\n",
       "<p>638 rows × 2 columns</p>\n",
       "</div>"
      ],
      "text/plain": [
       "           peso   faixa\n",
       "0    516.268190   jovem\n",
       "1    540.235001   jovem\n",
       "2    484.336066   jovem\n",
       "3    498.419383   jovem\n",
       "4    460.626614   jovem\n",
       "..          ...     ...\n",
       "633  606.697125  adulto\n",
       "634  602.982121  adulto\n",
       "635  584.651567  adulto\n",
       "636  600.200733  adulto\n",
       "637  601.999458  adulto\n",
       "\n",
       "[638 rows x 2 columns]"
      ]
     },
     "execution_count": 17,
     "metadata": {},
     "output_type": "execute_result"
    }
   ],
   "source": [
    "# Importando o arquivo\n",
    "pesos = pd.read_excel(\"dados/vacas.xlsx\")\n",
    "pesos"
   ]
  },
  {
   "cell_type": "code",
   "execution_count": 18,
   "metadata": {},
   "outputs": [
    {
     "data": {
      "text/plain": [
       "ShapiroResult(statistic=0.9956233501434326, pvalue=0.5145183801651001)"
      ]
     },
     "execution_count": 18,
     "metadata": {},
     "output_type": "execute_result"
    }
   ],
   "source": [
    "# Lembrando que para fazer o teste de comparação de variâncias devemos verificar normalidade!\n",
    "# H0: amostra provém de uma população normal\n",
    "# H1: amostra nao provém de uma população normal\n",
    "stats.shapiro(pesos[\"peso\"][pesos['faixa'] == \"jovem\"])\n",
    "# se quiser fazer o histograma\n",
    "# plt.hist(pesos[\"peso\"][pesos['faixa'] == \"jovem\"])"
   ]
  },
  {
   "cell_type": "code",
   "execution_count": 19,
   "metadata": {},
   "outputs": [
    {
     "data": {
      "text/plain": [
       "ShapiroResult(statistic=0.9965778589248657, pvalue=0.7309128642082214)"
      ]
     },
     "execution_count": 19,
     "metadata": {},
     "output_type": "execute_result"
    }
   ],
   "source": [
    "# Lembrando que para fazer o teste de comparação de variâncias devemos verificar normalidade!\n",
    "# H0: amostra provém de uma população normal\n",
    "# H1: amostra nao provém de uma população normal\n",
    "stats.shapiro(pesos[\"peso\"][pesos['faixa'] == \"adulto\"])\n",
    "# se quiser fazer o histograma\n",
    "# plt.hist(pesos[\"peso\"][pesos['faixa'] == \"adulto\"])"
   ]
  },
  {
   "cell_type": "code",
   "execution_count": 20,
   "metadata": {},
   "outputs": [
    {
     "data": {
      "text/plain": [
       "LeveneResult(statistic=326.9284680108818, pvalue=2.8168225495838855e-59)"
      ]
     },
     "execution_count": 20,
     "metadata": {},
     "output_type": "execute_result"
    }
   ],
   "source": [
    "# Como são normais, vou fazer o teste de comparação de variâncias de Levene\n",
    "# H0: var_jovem = var_adulto\n",
    "# H1: var_jovem != var_adulto\n",
    "\n",
    "stats.levene(pesos[\"peso\"][pesos['faixa'] == \"jovem\"],pesos[\"peso\"][pesos['faixa'] == \"adulto\"])\n",
    "\n",
    "# observando o p-valor nota-se que Rejeitamos H0, ou seja, as variâncias são diferentes!"
   ]
  },
  {
   "cell_type": "code",
   "execution_count": 21,
   "metadata": {
    "scrolled": true
   },
   "outputs": [
    {
     "data": {
      "text/plain": [
       "<matplotlib.axes._subplots.AxesSubplot at 0x27df3bd4ee0>"
      ]
     },
     "execution_count": 21,
     "metadata": {},
     "output_type": "execute_result"
    },
    {
     "data": {
      "image/png": "[encoded data removed]",
      "text/plain": [
       "<Figure size 432x288 with 1 Axes>"
      ]
     },
     "metadata": {
      "needs_background": "light"
     },
     "output_type": "display_data"
    }
   ],
   "source": [
    "# trazendo algo visual para confortar:\n",
    "sns.boxplot(x=pesos[\"faixa\"], y=pesos[\"peso\"], palette=\"gray\")"
   ]
  },
  {
   "cell_type": "markdown",
   "metadata": {},
   "source": [
    "### <code style=\"color:red\">Prática </code>\n",
    "    \n",
    "    Importe o arquivo variancia2.xlsx\n",
    "    Teste se as variâncias são iguais ou diferentes\n",
    "    Visualize isso através de um boxplot"
   ]
  },
  {
   "cell_type": "code",
   "execution_count": 29,
   "metadata": {},
   "outputs": [
    {
     "data": {
      "text/html": [
       "<div>\n",
       "<style scoped>\n",
       "    .dataframe tbody tr th:only-of-type {\n",
       "        vertical-align: middle;\n",
       "    }\n",
       "\n",
       "    .dataframe tbody tr th {\n",
       "        vertical-align: top;\n",
       "    }\n",
       "\n",
       "    .dataframe thead th {\n",
       "        text-align: right;\n",
       "    }\n",
       "</style>\n",
       "<table border=\"1\" class=\"dataframe\">\n",
       "  <thead>\n",
       "    <tr style=\"text-align: right;\">\n",
       "      <th></th>\n",
       "      <th>x</th>\n",
       "      <th>grupo</th>\n",
       "    </tr>\n",
       "  </thead>\n",
       "  <tbody>\n",
       "    <tr>\n",
       "      <th>0</th>\n",
       "      <td>8.348935</td>\n",
       "      <td>grupo_A</td>\n",
       "    </tr>\n",
       "    <tr>\n",
       "      <th>1</th>\n",
       "      <td>10.055573</td>\n",
       "      <td>grupo_A</td>\n",
       "    </tr>\n",
       "    <tr>\n",
       "      <th>2</th>\n",
       "      <td>10.830788</td>\n",
       "      <td>grupo_A</td>\n",
       "    </tr>\n",
       "    <tr>\n",
       "      <th>3</th>\n",
       "      <td>10.045451</td>\n",
       "      <td>grupo_A</td>\n",
       "    </tr>\n",
       "    <tr>\n",
       "      <th>4</th>\n",
       "      <td>9.125831</td>\n",
       "      <td>grupo_A</td>\n",
       "    </tr>\n",
       "    <tr>\n",
       "      <th>...</th>\n",
       "      <td>...</td>\n",
       "      <td>...</td>\n",
       "    </tr>\n",
       "    <tr>\n",
       "      <th>1995</th>\n",
       "      <td>13.539565</td>\n",
       "      <td>grupo_B</td>\n",
       "    </tr>\n",
       "    <tr>\n",
       "      <th>1996</th>\n",
       "      <td>14.587278</td>\n",
       "      <td>grupo_B</td>\n",
       "    </tr>\n",
       "    <tr>\n",
       "      <th>1997</th>\n",
       "      <td>15.286368</td>\n",
       "      <td>grupo_B</td>\n",
       "    </tr>\n",
       "    <tr>\n",
       "      <th>1998</th>\n",
       "      <td>14.000248</td>\n",
       "      <td>grupo_B</td>\n",
       "    </tr>\n",
       "    <tr>\n",
       "      <th>1999</th>\n",
       "      <td>15.747717</td>\n",
       "      <td>grupo_B</td>\n",
       "    </tr>\n",
       "  </tbody>\n",
       "</table>\n",
       "<p>2000 rows × 2 columns</p>\n",
       "</div>"
      ],
      "text/plain": [
       "              x    grupo\n",
       "0      8.348935  grupo_A\n",
       "1     10.055573  grupo_A\n",
       "2     10.830788  grupo_A\n",
       "3     10.045451  grupo_A\n",
       "4      9.125831  grupo_A\n",
       "...         ...      ...\n",
       "1995  13.539565  grupo_B\n",
       "1996  14.587278  grupo_B\n",
       "1997  15.286368  grupo_B\n",
       "1998  14.000248  grupo_B\n",
       "1999  15.747717  grupo_B\n",
       "\n",
       "[2000 rows x 2 columns]"
      ]
     },
     "execution_count": 29,
     "metadata": {},
     "output_type": "execute_result"
    }
   ],
   "source": [
    "# Importando o arquivo\n",
    "variancia = pd.read_excel(\"dados/variancia2.xlsx\")\n",
    "variancia"
   ]
  },
  {
   "cell_type": "code",
   "execution_count": 32,
   "metadata": {},
   "outputs": [
    {
     "data": {
      "text/plain": [
       "ShapiroResult(statistic=0.998325526714325, pvalue=0.4462525248527527)"
      ]
     },
     "execution_count": 32,
     "metadata": {},
     "output_type": "execute_result"
    }
   ],
   "source": [
    "# Lembrando que para fazer o teste de comparação de variâncias devemos verificar normalidade!\n",
    "# H0: amostra provém de uma população normal\n",
    "# H1: amostra nao provém de uma população normal\n",
    "stats.shapiro(variancia[\"x\"][variancia['grupo'] == \"grupo_A\"])\n",
    "stats.shapiro(variancia[\"x\"][variancia['grupo'] == \"grupo_B\"])\n"
   ]
  },
  {
   "cell_type": "code",
   "execution_count": 33,
   "metadata": {},
   "outputs": [
    {
     "data": {
      "text/plain": [
       "LeveneResult(statistic=0.051060493471059266, pvalue=0.8212512169511003)"
      ]
     },
     "execution_count": 33,
     "metadata": {},
     "output_type": "execute_result"
    }
   ],
   "source": [
    "stats.levene(variancia[\"x\"][variancia['grupo'] == \"grupo_A\"],variancia[\"x\"][variancia['grupo'] == \"grupo_B\"])"
   ]
  },
  {
   "cell_type": "code",
   "execution_count": 37,
   "metadata": {},
   "outputs": [
    {
     "data": {
      "text/plain": [
       "<matplotlib.axes._subplots.AxesSubplot at 0x27df401cdf0>"
      ]
     },
     "execution_count": 37,
     "metadata": {},
     "output_type": "execute_result"
    },
    {
     "data": {
      "image/png": "[encoded data removed]",
      "text/plain": [
       "<Figure size 432x288 with 1 Axes>"
      ]
     },
     "metadata": {
      "needs_background": "light"
     },
     "output_type": "display_data"
    }
   ],
   "source": [
    "# trazendo algo visual para confortar:\n",
    "sns.boxplot(x=variancia[\"grupo\"], y=variancia[\"x\"], palette=\"pink\")"
   ]
  },
  {
   "cell_type": "markdown",
   "metadata": {},
   "source": [
    "### <code style=\"color:green\">4) Teste t para uma amostra </code>\n",
    "    \n",
    " * Verifica se a média populacional (mu) é igual a um determinado valor (mu_0):\n",
    "     * Teste t para uma amostra:\n",
    "                 H0: mu = mu_0 \n",
    "                 H1: mu != mu_0 \n",
    "     * Lembrando que H1 pode ser diferente, maior ou menor (argumento alternative) que mu_0\n",
    "\n",
    "Importante validar a normalidade "
   ]
  },
  {
   "cell_type": "markdown",
   "metadata": {},
   "source": [
    "### <code style=\"color:red\">Exemplo </code>\n",
    "    \n",
    "    Para conhecermos tal teste, criei uma variável aleatória chamada gerando, conforme uma distruibuição normal (ou seja, não preciso validar que é normal, porque já sabemos que é).\n",
    "    \n",
    "    Aplique os seguintes testes:\n",
    "    1)\n",
    "                 H0: mu = 10 \n",
    "                 H1: mu != 10    \n",
    "    2)\n",
    "                 H0: mu = 10 \n",
    "                 H1: mu < 10     \n",
    "    2)\n",
    "                 H0: mu = 10 \n",
    "                 H1: mu > 10  "
   ]
  },
  {
   "cell_type": "code",
   "execution_count": 38,
   "metadata": {},
   "outputs": [],
   "source": [
    "# gerando dados propositais\n",
    "gerando = np.random.normal(18, 4, size=1000) "
   ]
  },
  {
   "cell_type": "code",
   "execution_count": 39,
   "metadata": {},
   "outputs": [
    {
     "data": {
      "text/plain": [
       "Ttest_1sampResult(statistic=65.1073621312368, pvalue=0.0)"
      ]
     },
     "execution_count": 39,
     "metadata": {},
     "output_type": "execute_result"
    }
   ],
   "source": [
    "# Teste 1) quero saber se a média da população é igual a 10 ou diferente\n",
    "# H0: mu = 10\n",
    "# H1: mu <> 10\n",
    "\n",
    "stats.ttest_1samp(gerando,10)\n",
    "\n",
    "# como p-valor menor que alpha, então rejeito H0, ou seja, a média populacional não é 10"
   ]
  },
  {
   "cell_type": "code",
   "execution_count": 40,
   "metadata": {},
   "outputs": [
    {
     "data": {
      "text/plain": [
       "Ttest_1sampResult(statistic=65.1073621312368, pvalue=1.0)"
      ]
     },
     "execution_count": 40,
     "metadata": {},
     "output_type": "execute_result"
    }
   ],
   "source": [
    "# Teste 2) quero saber se a média da população é igual a 10 ou menor que 10\n",
    "# H0: mu = 10\n",
    "# H1: mu < 10\n",
    "\n",
    "stats.ttest_1samp(gerando, 10, alternative = 'less')\n",
    "\n",
    "# como p-valor maior que alpha, então não rejeito H0, ou seja, a média populacional é 10\n",
    "# repare a confusão que pode causar quando a pergunta não é bem feita... (deveria perguntar se é menor?)"
   ]
  },
  {
   "cell_type": "code",
   "execution_count": 41,
   "metadata": {},
   "outputs": [
    {
     "data": {
      "text/plain": [
       "18.03861270044656"
      ]
     },
     "execution_count": 41,
     "metadata": {},
     "output_type": "execute_result"
    }
   ],
   "source": [
    "# quanto é a média dessa amostra?\n",
    "np.mean(gerando)\n",
    "# repara o quanto a pergunta foi mal feita? Questionar se é menor que 10 por que?"
   ]
  },
  {
   "cell_type": "code",
   "execution_count": 16,
   "metadata": {},
   "outputs": [
    {
     "data": {
      "text/plain": [
       "Ttest_1sampResult(statistic=65.60869653150168, pvalue=0.0)"
      ]
     },
     "execution_count": 16,
     "metadata": {},
     "output_type": "execute_result"
    }
   ],
   "source": [
    "# Teste 3) quero saber se a média da população é igual a 10 ou maior que 10\n",
    "# H0: mu = 10\n",
    "# H1: mu > 10\n",
    "\n",
    "stats.ttest_1samp(gerando, 10, alternative = 'greater')\n",
    "\n",
    "# como p-valor menor que alpha, então rejeito H0, ou seja, a média populacional é maior que 10 \n",
    "# (pergunta que agora sim faz sentido)"
   ]
  },
  {
   "cell_type": "markdown",
   "metadata": {},
   "source": [
    "### <code style=\"color:red\">Prática </code>\n",
    "    \n",
    "    Encontramos uma amostra de 225 pesos, em gramas, de batatas do MC Donald\n",
    "    O restaurante anuncia um peso de 84 gramas\n",
    "    Importe o arquivo mc_batata.xlsx\n",
    "    Faça o teste adequado e veja se esse MC Donald entrega o que promete"
   ]
  },
  {
   "cell_type": "markdown",
   "metadata": {},
   "source": [
    "### <code style=\"color:green\">4) Teste t para duas amostras </code>\n",
    "    \n",
    " * Verifica se a média populacional (mu) de um determinado grupo (amostra) é diferente, maior ou menos que de outro grupo (amostra):\n",
    "     * Teste t para duas amostras:\n",
    "                 H0: mu_A = mu_B\n",
    "                 H1: mu_A != mu_B \n",
    "     * Lembrando que H1 pode ser diferente, maior ou menor (argumento alternative)\n",
    "     \n",
    "Importante validar a normalidade e escolher o teste t correto (variâncias iguais ou diferentes?)\n",
    "\n",
    "    * comando para teste t independente: stats.ttest_ind\n",
    "    * comando para teste t emparelhado: stats.ttest_rel"
   ]
  },
  {
   "cell_type": "markdown",
   "metadata": {},
   "source": [
    "### <code style=\"color:red\">Exemplo </code>\n",
    "    \n",
    "    Eu sempre achei que a batata frita do MC da Faria Lima viesse menos que o da Juscelino\n",
    "    Isso é verdade? Colheu-se 150 amostras de cada restaurante e pesou-se as batatas.\n",
    "    Importe o arquivo mc_donalds.xlsx\n",
    "    Faça o teste adequado e mate a curiosidade dessa gordinha"
   ]
  },
  {
   "cell_type": "code",
   "execution_count": 6,
   "metadata": {},
   "outputs": [
    {
     "data": {
      "text/html": [
       "<div>\n",
       "<style scoped>\n",
       "    .dataframe tbody tr th:only-of-type {\n",
       "        vertical-align: middle;\n",
       "    }\n",
       "\n",
       "    .dataframe tbody tr th {\n",
       "        vertical-align: top;\n",
       "    }\n",
       "\n",
       "    .dataframe thead th {\n",
       "        text-align: right;\n",
       "    }\n",
       "</style>\n",
       "<table border=\"1\" class=\"dataframe\">\n",
       "  <thead>\n",
       "    <tr style=\"text-align: right;\">\n",
       "      <th></th>\n",
       "      <th>peso</th>\n",
       "      <th>local</th>\n",
       "    </tr>\n",
       "  </thead>\n",
       "  <tbody>\n",
       "    <tr>\n",
       "      <th>0</th>\n",
       "      <td>68.565563</td>\n",
       "      <td>FL</td>\n",
       "    </tr>\n",
       "    <tr>\n",
       "      <th>1</th>\n",
       "      <td>74.941574</td>\n",
       "      <td>FL</td>\n",
       "    </tr>\n",
       "    <tr>\n",
       "      <th>2</th>\n",
       "      <td>79.927819</td>\n",
       "      <td>FL</td>\n",
       "    </tr>\n",
       "    <tr>\n",
       "      <th>3</th>\n",
       "      <td>71.411462</td>\n",
       "      <td>FL</td>\n",
       "    </tr>\n",
       "    <tr>\n",
       "      <th>4</th>\n",
       "      <td>74.854567</td>\n",
       "      <td>FL</td>\n",
       "    </tr>\n",
       "    <tr>\n",
       "      <th>...</th>\n",
       "      <td>...</td>\n",
       "      <td>...</td>\n",
       "    </tr>\n",
       "    <tr>\n",
       "      <th>295</th>\n",
       "      <td>85.047719</td>\n",
       "      <td>JK</td>\n",
       "    </tr>\n",
       "    <tr>\n",
       "      <th>296</th>\n",
       "      <td>76.236169</td>\n",
       "      <td>JK</td>\n",
       "    </tr>\n",
       "    <tr>\n",
       "      <th>297</th>\n",
       "      <td>69.758688</td>\n",
       "      <td>JK</td>\n",
       "    </tr>\n",
       "    <tr>\n",
       "      <th>298</th>\n",
       "      <td>65.525607</td>\n",
       "      <td>JK</td>\n",
       "    </tr>\n",
       "    <tr>\n",
       "      <th>299</th>\n",
       "      <td>85.680058</td>\n",
       "      <td>JK</td>\n",
       "    </tr>\n",
       "  </tbody>\n",
       "</table>\n",
       "<p>300 rows × 2 columns</p>\n",
       "</div>"
      ],
      "text/plain": [
       "          peso local\n",
       "0    68.565563    FL\n",
       "1    74.941574    FL\n",
       "2    79.927819    FL\n",
       "3    71.411462    FL\n",
       "4    74.854567    FL\n",
       "..         ...   ...\n",
       "295  85.047719    JK\n",
       "296  76.236169    JK\n",
       "297  69.758688    JK\n",
       "298  65.525607    JK\n",
       "299  85.680058    JK\n",
       "\n",
       "[300 rows x 2 columns]"
      ]
     },
     "execution_count": 6,
     "metadata": {},
     "output_type": "execute_result"
    }
   ],
   "source": [
    "# importando o arquivo\n",
    "mc = pd.read_excel(\"dados/mc_donalds.xlsx\")\n",
    "mc"
   ]
  },
  {
   "cell_type": "code",
   "execution_count": 42,
   "metadata": {},
   "outputs": [
    {
     "data": {
      "text/plain": [
       "ShapiroResult(statistic=0.9910341501235962, pvalue=0.4617883265018463)"
      ]
     },
     "execution_count": 42,
     "metadata": {},
     "output_type": "execute_result"
    }
   ],
   "source": [
    "# Lembrando que para fazer o teste t devemos verificar normalidade!\n",
    "# H0: amostra provém de uma população normal\n",
    "# H1: amostra nao provém de uma população normal\n",
    "stats.shapiro(mc[\"peso\"][mc['local']=='FL'])\n",
    "# se quiser fazer o histograma\n",
    "# plt.hist(mc[\"peso\"][mc['local']=='FL'])"
   ]
  },
  {
   "cell_type": "code",
   "execution_count": 43,
   "metadata": {},
   "outputs": [
    {
     "data": {
      "text/plain": [
       "ShapiroResult(statistic=0.9924609661102295, pvalue=0.6167722940444946)"
      ]
     },
     "execution_count": 43,
     "metadata": {},
     "output_type": "execute_result"
    }
   ],
   "source": [
    "# Lembrando que para fazer o teste t devemos verificar normalidade!\n",
    "# H0: amostra provém de uma população normal\n",
    "# H1: amostra nao provém de uma população normal\n",
    "stats.shapiro(mc[\"peso\"][mc['local']=='JK'])\n",
    "# se quiser fazer o histograma\n",
    "# plt.hist(mc[\"peso\"][mc['local']=='JK'])"
   ]
  },
  {
   "cell_type": "code",
   "execution_count": 44,
   "metadata": {},
   "outputs": [
    {
     "data": {
      "text/plain": [
       "LeveneResult(statistic=82.97794829984085, pvalue=1.2431703512569975e-17)"
      ]
     },
     "execution_count": 44,
     "metadata": {},
     "output_type": "execute_result"
    }
   ],
   "source": [
    "# Como são normais, vou fazer o teste de comparação de variâncias de Levene para saber qual teste t utilizar\n",
    "# H0: var_FL = var_JK\n",
    "# H1: var_FL != var_JK\n",
    "\n",
    "stats.levene(mc[\"peso\"][mc['local']=='FL'] , mc[\"peso\"][mc['local']=='JK'])\n",
    "\n",
    "# observando o p-valor nota-se que Rejeitamos H0, ou seja, as variâncias são diferentes!"
   ]
  },
  {
   "cell_type": "code",
   "execution_count": 45,
   "metadata": {},
   "outputs": [
    {
     "data": {
      "text/plain": [
       "Ttest_indResult(statistic=-0.4538101067522638, pvalue=0.6504842796161269)"
      ]
     },
     "execution_count": 45,
     "metadata": {},
     "output_type": "execute_result"
    }
   ],
   "source": [
    "# Uma vez que os dados são normais, mas com variâncias diferentes, devemos aplicar o teste t mais adequado\n",
    "# H0: mu_FL = mu_JK\n",
    "# H1: mu_FL != mu_JK\n",
    "\n",
    "stats.ttest_ind(mc[\"peso\"][mc['local']=='FL'], mc[\"peso\"][mc['local']=='JK'], equal_var=False)"
   ]
  },
  {
   "cell_type": "code",
   "execution_count": 46,
   "metadata": {},
   "outputs": [
    {
     "name": "stdout",
     "output_type": "stream",
     "text": [
      "74.2313856571782 73.67584254311157\n"
     ]
    }
   ],
   "source": [
    "# Vamos verificar as médias?\n",
    "jk=mc[\"peso\"][mc['local']=='JK'].mean()\n",
    "fl=mc[\"peso\"][mc['local']=='FL'].mean()\n",
    "print(jk,fl)"
   ]
  },
  {
   "cell_type": "code",
   "execution_count": 47,
   "metadata": {},
   "outputs": [
    {
     "data": {
      "text/plain": [
       "<matplotlib.axes._subplots.AxesSubplot at 0x27df412ebe0>"
      ]
     },
     "execution_count": 47,
     "metadata": {},
     "output_type": "execute_result"
    },
    {
     "data": {
      "image/png": "[encoded data removed]",
      "text/plain": [
       "<Figure size 432x288 with 1 Axes>"
      ]
     },
     "metadata": {
      "needs_background": "light"
     },
     "output_type": "display_data"
    }
   ],
   "source": [
    "# trazendo algo visual para confortar:\n",
    "sns.boxplot(x=mc[\"local\"], y=mc[\"peso\"], palette=\"pink\")"
   ]
  },
  {
   "cell_type": "markdown",
   "metadata": {},
   "source": [
    "### <code style=\"color:red\">Prática </code>\n",
    "    \n",
    "O artigo “A Critical Appraisal of 98.6 Degrees F, the Upper Limit of the Normal Body Temperature,   \n",
    "and Other Legacies of Carl Reinhold August Wunderlich” questiona a noção de que a verdadeira    \n",
    "temperatura corporal média é 98,6. Além disso há também alguma dúvida sobre se as temperaturas   \n",
    "corporais médias para as mulheres são iguais às dos homens (nivel de significancia de 0,01).    \n",
    "\n",
    "Os dados são NormTemp.sas7bdat e o dicionário de dados:   \n",
    "\n",
    "ID - Identificador do indivíduo   \n",
    "BodyTemp - Temperatura corporal (graus Fahrenheit)   \n",
    "Gender - Sexo do indivíduo   \n",
    "HeartRate - Frequência cardíaca (batimentos por minuto)   \n",
    "\n",
    "Referência   \n",
    "Mackowiak, P. A., Wasserman, S. S., and Levine, M. M. (1992),    \n",
    "“A Critical Appraisal of 98.6 Degrees F, the Upper Limit of the Normal Body Temperature, and Other    \n",
    "Legacies of Carl Reinhold August Wunderlich,” Journal of the American Medical Association,    \n",
    "268, 1578–1580.    \n",
    "https://jamanetwork.com/journals/jama/article-abstract/400116"
   ]
  },
  {
   "cell_type": "markdown",
   "metadata": {},
   "source": [
    "### <code style=\"color:green\">5) ANOVA - 1 fator </code>\n",
    "    \n",
    " * Verifica se a média populacional (mu) de k grupos são iguais ou pelo menos 1 é diferente:\n",
    "     * ANOVA 1 fator:\n",
    "                 H0: mu_A = mu_B = mu_C = mu_D\n",
    "                 H1: pelo menos um é diferente\n",
    "     \n",
    "Importante validar a normalidade e homogeneidade de variância"
   ]
  },
  {
   "cell_type": "markdown",
   "metadata": {},
   "source": [
    "### <code style=\"color:red\">Exemplo </code>\n",
    "    \n",
    "    Será que perfil_idade influência no gasto do cartão de crédito?"
   ]
  },
  {
   "cell_type": "code",
   "execution_count": 4,
   "metadata": {},
   "outputs": [
    {
     "data": {
      "text/html": [
       "<div>\n",
       "<style scoped>\n",
       "    .dataframe tbody tr th:only-of-type {\n",
       "        vertical-align: middle;\n",
       "    }\n",
       "\n",
       "    .dataframe tbody tr th {\n",
       "        vertical-align: top;\n",
       "    }\n",
       "\n",
       "    .dataframe thead th {\n",
       "        text-align: right;\n",
       "    }\n",
       "</style>\n",
       "<table border=\"1\" class=\"dataframe\">\n",
       "  <thead>\n",
       "    <tr style=\"text-align: right;\">\n",
       "      <th></th>\n",
       "      <th>Perfil_idade</th>\n",
       "      <th>Gasto</th>\n",
       "    </tr>\n",
       "  </thead>\n",
       "  <tbody>\n",
       "    <tr>\n",
       "      <th>0</th>\n",
       "      <td>Jovem</td>\n",
       "      <td>4</td>\n",
       "    </tr>\n",
       "    <tr>\n",
       "      <th>1</th>\n",
       "      <td>Jovem</td>\n",
       "      <td>5</td>\n",
       "    </tr>\n",
       "    <tr>\n",
       "      <th>2</th>\n",
       "      <td>Jovem</td>\n",
       "      <td>6</td>\n",
       "    </tr>\n",
       "    <tr>\n",
       "      <th>3</th>\n",
       "      <td>Adulto</td>\n",
       "      <td>12</td>\n",
       "    </tr>\n",
       "    <tr>\n",
       "      <th>4</th>\n",
       "      <td>Adulto</td>\n",
       "      <td>13</td>\n",
       "    </tr>\n",
       "    <tr>\n",
       "      <th>5</th>\n",
       "      <td>Adulto</td>\n",
       "      <td>14</td>\n",
       "    </tr>\n",
       "    <tr>\n",
       "      <th>6</th>\n",
       "      <td>Idoso</td>\n",
       "      <td>8</td>\n",
       "    </tr>\n",
       "    <tr>\n",
       "      <th>7</th>\n",
       "      <td>Idoso</td>\n",
       "      <td>9</td>\n",
       "    </tr>\n",
       "    <tr>\n",
       "      <th>8</th>\n",
       "      <td>Idoso</td>\n",
       "      <td>10</td>\n",
       "    </tr>\n",
       "  </tbody>\n",
       "</table>\n",
       "</div>"
      ],
      "text/plain": [
       "  Perfil_idade  Gasto\n",
       "0        Jovem      4\n",
       "1        Jovem      5\n",
       "2        Jovem      6\n",
       "3       Adulto     12\n",
       "4       Adulto     13\n",
       "5       Adulto     14\n",
       "6        Idoso      8\n",
       "7        Idoso      9\n",
       "8        Idoso     10"
      ]
     },
     "execution_count": 4,
     "metadata": {},
     "output_type": "execute_result"
    }
   ],
   "source": [
    "# Importando o arquivo\n",
    "anova1 = pd.read_excel(\"dados/ANOVA_1fator.xlsx\")\n",
    "anova1"
   ]
  },
  {
   "cell_type": "code",
   "execution_count": 5,
   "metadata": {},
   "outputs": [
    {
     "data": {
      "text/plain": [
       "F_onewayResult(statistic=48.0, pvalue=0.0002035416242621616)"
      ]
     },
     "execution_count": 5,
     "metadata": {},
     "output_type": "execute_result"
    }
   ],
   "source": [
    "# Para fazer o teste anovo, apenas:\n",
    "# H0: mu_A = mu_B = mu_C = mu_D\n",
    "# H1: pelo menos um é diferente\n",
    "# forma que ele diz se existe uma variação entre h0 e h1\n",
    "stats.f_oneway(anova1[\"Gasto\"][anova1[\"Perfil_idade\"]==\"Jovem\"], \n",
    "               anova1[\"Gasto\"][anova1[\"Perfil_idade\"]==\"Adulto\"], \n",
    "               anova1[\"Gasto\"][anova1[\"Perfil_idade\"]==\"Idoso\"])"
   ]
  },
  {
   "cell_type": "code",
   "execution_count": null,
   "metadata": {},
   "outputs": [],
   "source": [
    "# variavel dummy:  variavel que lembra binario "
   ]
  },
  {
   "cell_type": "code",
   "execution_count": 6,
   "metadata": {},
   "outputs": [
    {
     "data": {
      "text/html": [
       "<div>\n",
       "<style scoped>\n",
       "    .dataframe tbody tr th:only-of-type {\n",
       "        vertical-align: middle;\n",
       "    }\n",
       "\n",
       "    .dataframe tbody tr th {\n",
       "        vertical-align: top;\n",
       "    }\n",
       "\n",
       "    .dataframe thead th {\n",
       "        text-align: right;\n",
       "    }\n",
       "</style>\n",
       "<table border=\"1\" class=\"dataframe\">\n",
       "  <thead>\n",
       "    <tr style=\"text-align: right;\">\n",
       "      <th></th>\n",
       "      <th>sum_sq</th>\n",
       "      <th>df</th>\n",
       "      <th>F</th>\n",
       "      <th>PR(&gt;F)</th>\n",
       "    </tr>\n",
       "  </thead>\n",
       "  <tbody>\n",
       "    <tr>\n",
       "      <th>C(Perfil_idade)</th>\n",
       "      <td>96.0</td>\n",
       "      <td>2.0</td>\n",
       "      <td>48.0</td>\n",
       "      <td>0.000204</td>\n",
       "    </tr>\n",
       "    <tr>\n",
       "      <th>Residual</th>\n",
       "      <td>6.0</td>\n",
       "      <td>6.0</td>\n",
       "      <td>NaN</td>\n",
       "      <td>NaN</td>\n",
       "    </tr>\n",
       "  </tbody>\n",
       "</table>\n",
       "</div>"
      ],
      "text/plain": [
       "                 sum_sq   df     F    PR(>F)\n",
       "C(Perfil_idade)    96.0  2.0  48.0  0.000204\n",
       "Residual            6.0  6.0   NaN       NaN"
      ]
     },
     "execution_count": 6,
     "metadata": {},
     "output_type": "execute_result"
    }
   ],
   "source": [
    "model_1fator = ols('Gasto ~ C(Perfil_idade)', anova1).fit()\n",
    "aov_table_1fator = anova_lm(model_1fator, typ=2)\n",
    "aov_table_1fator"
   ]
  },
  {
   "cell_type": "markdown",
   "metadata": {},
   "source": [
    "### <code style=\"color:green\">6) ANOVA - 2 ou mais fatores </code>\n",
    "    \n",
    " * Verifica se a média populacional (mu) de k grupos são iguais ou pelo menos 1 é diferente para cada fator   \n",
    "   e para interação, se solicitado:   \n",
    "   * ANOVA fatorial:\n",
    "      * Fator A (variável A)\n",
    "                 H0: mu_A1 = mu_A2 = mu_A3 = mu_A4\n",
    "                 H1: pelo menos um é diferente\n",
    "      * Fator B (variável B)\n",
    "                 H0: mu_B1 = mu_B2 = mu_B3 = mu_B4\n",
    "                 H1: pelo menos um é diferente    \n",
    "      * Interação AB (se solicitada)\n",
    "                 H0: não existe interação\n",
    "                 H1: existe interação\n",
    "                 \n",
    "Importante validar a normalidade e homogeneidade de variância"
   ]
  },
  {
   "cell_type": "markdown",
   "metadata": {},
   "source": [
    "### <code style=\"color:red\">Exemplo </code>\n",
    "    \n",
    "    Será que sexo (feminimo / masculino), renda (baixa, media, alta) e a interação entre elas influência no gasto do cartão de crédito?"
   ]
  },
  {
   "cell_type": "code",
   "execution_count": 51,
   "metadata": {},
   "outputs": [
    {
     "data": {
      "text/html": [
       "<div>\n",
       "<style scoped>\n",
       "    .dataframe tbody tr th:only-of-type {\n",
       "        vertical-align: middle;\n",
       "    }\n",
       "\n",
       "    .dataframe tbody tr th {\n",
       "        vertical-align: top;\n",
       "    }\n",
       "\n",
       "    .dataframe thead th {\n",
       "        text-align: right;\n",
       "    }\n",
       "</style>\n",
       "<table border=\"1\" class=\"dataframe\">\n",
       "  <thead>\n",
       "    <tr style=\"text-align: right;\">\n",
       "      <th></th>\n",
       "      <th>gastos</th>\n",
       "      <th>sexo</th>\n",
       "      <th>renda</th>\n",
       "    </tr>\n",
       "  </thead>\n",
       "  <tbody>\n",
       "    <tr>\n",
       "      <th>0</th>\n",
       "      <td>4.2</td>\n",
       "      <td>Feminino</td>\n",
       "      <td>Baixa</td>\n",
       "    </tr>\n",
       "    <tr>\n",
       "      <th>1</th>\n",
       "      <td>11.5</td>\n",
       "      <td>Feminino</td>\n",
       "      <td>Baixa</td>\n",
       "    </tr>\n",
       "    <tr>\n",
       "      <th>2</th>\n",
       "      <td>7.3</td>\n",
       "      <td>Feminino</td>\n",
       "      <td>Baixa</td>\n",
       "    </tr>\n",
       "    <tr>\n",
       "      <th>3</th>\n",
       "      <td>5.8</td>\n",
       "      <td>Feminino</td>\n",
       "      <td>Baixa</td>\n",
       "    </tr>\n",
       "    <tr>\n",
       "      <th>4</th>\n",
       "      <td>6.4</td>\n",
       "      <td>Feminino</td>\n",
       "      <td>Baixa</td>\n",
       "    </tr>\n",
       "  </tbody>\n",
       "</table>\n",
       "</div>"
      ],
      "text/plain": [
       "   gastos      sexo  renda\n",
       "0     4.2  Feminino  Baixa\n",
       "1    11.5  Feminino  Baixa\n",
       "2     7.3  Feminino  Baixa\n",
       "3     5.8  Feminino  Baixa\n",
       "4     6.4  Feminino  Baixa"
      ]
     },
     "execution_count": 51,
     "metadata": {},
     "output_type": "execute_result"
    }
   ],
   "source": [
    "# Importando o arquivo\n",
    "anova2 = pd.read_excel(\"dados/ANOVA_2fatores.xlsx\")\n",
    "anova2.head()"
   ]
  },
  {
   "cell_type": "code",
   "execution_count": 54,
   "metadata": {},
   "outputs": [
    {
     "data": {
      "text/html": [
       "<div>\n",
       "<style scoped>\n",
       "    .dataframe tbody tr th:only-of-type {\n",
       "        vertical-align: middle;\n",
       "    }\n",
       "\n",
       "    .dataframe tbody tr th {\n",
       "        vertical-align: top;\n",
       "    }\n",
       "\n",
       "    .dataframe thead th {\n",
       "        text-align: right;\n",
       "    }\n",
       "</style>\n",
       "<table border=\"1\" class=\"dataframe\">\n",
       "  <thead>\n",
       "    <tr style=\"text-align: right;\">\n",
       "      <th></th>\n",
       "      <th>sum_sq</th>\n",
       "      <th>df</th>\n",
       "      <th>F</th>\n",
       "      <th>PR(&gt;F)</th>\n",
       "    </tr>\n",
       "  </thead>\n",
       "  <tbody>\n",
       "    <tr>\n",
       "      <th>C(sexo)</th>\n",
       "      <td>205.350000</td>\n",
       "      <td>1.0</td>\n",
       "      <td>15.571979</td>\n",
       "      <td>2.311828e-04</td>\n",
       "    </tr>\n",
       "    <tr>\n",
       "      <th>C(renda)</th>\n",
       "      <td>2426.434333</td>\n",
       "      <td>2.0</td>\n",
       "      <td>91.999965</td>\n",
       "      <td>4.046291e-18</td>\n",
       "    </tr>\n",
       "    <tr>\n",
       "      <th>C(sexo):C(renda)</th>\n",
       "      <td>108.319000</td>\n",
       "      <td>2.0</td>\n",
       "      <td>4.106991</td>\n",
       "      <td>2.186027e-02</td>\n",
       "    </tr>\n",
       "    <tr>\n",
       "      <th>Residual</th>\n",
       "      <td>712.106000</td>\n",
       "      <td>54.0</td>\n",
       "      <td>NaN</td>\n",
       "      <td>NaN</td>\n",
       "    </tr>\n",
       "  </tbody>\n",
       "</table>\n",
       "</div>"
      ],
      "text/plain": [
       "                       sum_sq    df          F        PR(>F)\n",
       "C(sexo)            205.350000   1.0  15.571979  2.311828e-04\n",
       "C(renda)          2426.434333   2.0  91.999965  4.046291e-18\n",
       "C(sexo):C(renda)   108.319000   2.0   4.106991  2.186027e-02\n",
       "Residual           712.106000  54.0        NaN           NaN"
      ]
     },
     "execution_count": 54,
     "metadata": {},
     "output_type": "execute_result"
    }
   ],
   "source": [
    "model = ols('gastos ~ C(sexo) + C(renda) + C(sexo):C(renda)', anova2).fit()\n",
    "aov_table = anova_lm(model, typ=2)\n",
    "aov_table"
   ]
  },
  {
   "cell_type": "code",
   "execution_count": null,
   "metadata": {},
   "outputs": [],
   "source": []
  }
 ],
 "metadata": {
  "kernelspec": {
   "display_name": "Python 3",
   "language": "python",
   "name": "python3"
  },
  "language_info": {
   "codemirror_mode": {
    "name": "ipython",
    "version": 3
   },
   "file_extension": ".py",
   "mimetype": "text/x-python",
   "name": "python",
   "nbconvert_exporter": "python",
   "pygments_lexer": "ipython3",
   "version": "3.8.8"
  }
 },
 "nbformat": 4,
 "nbformat_minor": 4
}

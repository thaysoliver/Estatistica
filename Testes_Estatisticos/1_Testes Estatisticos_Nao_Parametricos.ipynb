{
 "cells": [
  {
   "cell_type": "markdown",
   "metadata": {},
   "source": [
    "# Testes Estatísticos\n",
    "\n",
    "   Cada teste estatístico tem uma aplicação. É bem normal sofrermos no começo, porque é muita informação. Mas ser cientista de dados envolve mudanças de hábitos e uma delas é ter insistência, que com o tempo o seu cérebro vai aceitar e entender isso cada vez melhor. Não desista e não reclame da quantidade de esforço necessária... se quer ser, seja. Delicie-se com o lado bom e saiba lidar com os lados tenebrosos. Você não é o único =]\n",
    "   \n",
    "   Legendas:\n",
    "   * <code style=\"color:green\">Explicação Conteúdo</code>\n",
    "   * <code style=\"color:purple\">Dicas</code>\n",
    "   * <code style=\"color:red\">Prática</code>\n",
    "   * <code style=\"color:gray\">Contexto Negócio</code>"
   ]
  },
  {
   "cell_type": "markdown",
   "metadata": {},
   "source": [
    "### <code style=\"color:green\">Testes Estatísticos\n",
    "    \n",
    "    Testes estatísticos são muito úteis e necessários para sanarmos respostas rápidas e importantes pro entendimento do negócio.\n",
    "    As vezes é muito difícil entender o que essa frase de cima significa né? Mas posso compartilhar minha história com você e verá o quanto isso é útil num contexto de negócio (tomada de decisão).\n",
    "    Tenha em mente que sempre que eu usar o termo \"negócio\" eu estou falando sobre o contexto do problema que estivermos tratando. \n",
    "    Outros termos que são importantes serem relembrados:\n",
    "        - p-valor\n",
    "        - nível de confiança\n",
    "        - nível de significância\n",
    "        - intervalo de confiança\n",
    "        - teste bicaudal ou unilateral\n",
    "        - Que o tamanho da rosquinha não é o nerd que decide"
   ]
  },
  {
   "cell_type": "markdown",
   "metadata": {},
   "source": [
    "### <code style=\"color:gray\">Contexto Negócio </code>\n",
    "    \n",
    "    Eu sempre amei dar aula, desde pequena e conforme fui crescendo a hipótese de que Educação é necessária para o planeta, eu decidi me dedicar à educação (foco em análise de dados) em tempo integral!   \n",
    "    \n",
    "    Abri uma empresa! Nunca tinha empreendido, não tinha feito curso disso e já estava extremamente envolvida com o projeto, trabalhando de manhã cedo nele, indo trabalhar na empresa que estava como Diretora de Analytics, voltando, trabalhando nele e dale finais de semanas inteiros trabalhando nisso, junto com um monte de gente que me apoiou!    \n",
    "    Olhando agora eu fico felizona de notar que não existe nada que consigamos fazer sozinhos, então sorrio porque fui capaz de entender que a melhoria constante vem da união.\n",
    "\n",
    "    E essa é a minha luta hoje, é fazer meus alunos verem os números com outros olhos, entendendo que isso é um \"estilo de vida\". Nunca saberemos tudo, mas que a rotina de evolução se faz necessária. E vem sendo minha missão junto com os que se tornam meus alunos!    \n",
    "    \n",
    "    E infelizmente noto que existe muito sofrimento, muita desistências, muitas frustração e o pior de tudo... dado real... já tive turmas, onde 60% dos alunos estavam tratando depresão e ansiedade.   \n",
    "    Isso é um problema grave, porque isso impede a evolução da área, a evolução da espécie!!! O que eu mais quero são pessoas com tesão gigante em trabalhar com ciência de dados para melhorar o mundo e nos dar mais tempo (automatizando atividades que não exigem do nosso cérebro) para explorarmos coisas que ainda não tivemos nem tempo de pensar!!!    \n",
    "    \n",
    "    Sendo assim, decidi abrir uma empresa! E comecei oferecendo cursos in company (dados meus contatos e já quase 13 anos de mercado de trabalho fazendo apresentações em eventos, clientes e internet)... o que me permitiu abrir o escritório da ASN.Rocks na Vila Olímpia.   \n",
    "    Os cursos começaram e o trabalho cresceu muito rápido. Fora ter que pensar qual mesa comprar e mobiliar o lugar para receber alunos!!!   \n",
    "    Deu tudo certo e depois de 8 meses, pandemia fechou tudo... e tivemos que nos reinventar... e foi tudo extremamente puxado e é bastante trabalho para uma pessoa só e foi onde eu comecei a aprender como delegar. Mas confesso que é muito difícil fazer a gestão de tudo (olha aí onde análise de dados pode ajudar) e alguns pratos caem, depois tentamos colar os caquinhos e foi nesse momento que entendi o que é uma empresa!!!!   \n",
    "    Levando muito na cara, descobri que uma empresa nada mais é do que uma gestão mega bem feita para atingir um objetivo!!!  \n",
    "    \n",
    "    E a única forma de um ser humano conseguir fazer isso é tento tudo que acontece pelas suas costas (enquanto estou fazendo esse código, por exemplo) documentado em forma de dados. E ai, para entender o que está nesses conjuntos de dados é necessário analisá-los (estatística)...   \n",
    "    E claro, que como uma empresa tem muitos desafios, um presidente tem seus diretores, que são responsáveis por partes estratégicas para a empresa funcionar:   \n",
    "   * RH\n",
    "       * Você vai precisar fazer a gestão das pessoas que vão entrar pro time, certo?\n",
    "       * Fazer feedbacks (como você diz como está indo se você não tem tempo para entender no dia a dia o que seu colaborador está fazendo)\n",
    "       * Pagar salários na data (aqui envolve uma gestão financeira da empresa que exige muito cuidado e que sem dúvida nenhuma, ter uma gestão através de análise de tudo que acontece com o capital de giro ajudará demais!!!\n",
    "   * Financeiro\n",
    "       * Onde você vai armazernar o dinheiro, como ele está sendo utilizado, em coisas que realmente seja estratégicas para a empresa?\n",
    "       * Qual melhor projeto para investir?\n",
    "   * Marketing\n",
    "       * Será que estamos satisfazendo a necessidade de nossos alunos?\n",
    "       * O que podemos aprender com os feedbacks?\n",
    "       * Como podemos atrair mais pessoas para essa mudança que entendermos ajudar na evolução da espécie?\n",
    "       * Como podemos mudar nossa forma de ensinar conforme aprendemos com o feedback dos alunos?\n",
    "        \n",
    "    Aqui não temos esses diretores, então tudo se concentra em mim.\n",
    "    Reparem que existem outras milhares de possibilidades... mas vocês notam que no meu contexto de negócio (nossa escola ASN.Rocks) eu sofro com falta de capacidade de agir. Não sobra tempo então estou tentando usar dados (isso é dificil porque exige muita organização e não sobra tempo para pensar) e fazer isso virar uma rotina aos poucos.\n",
    "    Meu foco nesse momento está em entender a qualidade do que ofereço para meus alunos e estudar se estou indo no caminho de trazer cada vez mais e mais pessoas para essa nova rotina e postura. Ser Data Driven é um estido de vida (exige ajustes de rotina).\n",
    "    \n",
    "    Tudo isso para dizer que testes estatísticos me ajudam muito a entender meu contexto, ajustar rotas e definir melhores caminhos... vamos ver?\n"
   ]
  },
  {
   "cell_type": "markdown",
   "metadata": {},
   "source": [
    "### <code style=\"color:purple\">Dicas: </code>\n",
    "    \n",
    "Vejam só os tipos de dúvidas que vamos ser capazes de esclarecer om testes de hipóteses, pensando em tudo que vem acontecendo na empresa:\n",
    "    \n",
    "    1. Será que temos diversidade de gênero dentre nossos alunos?    \n",
    "    2. A proporção de alunos que chegam até o final de nossos cursos é maior que 0,8 (80% de nossos alunos)?    \n",
    "    3. Como é a variabilidade da idade dos meus alunos em relação ao sexo? Será que alunos homens tem idades mais parecidas do que entre as mulheres?    \n",
    "    4. Será que a média de nota dos meus alunos no início do curso é maior que 7?    \n",
    "    5. Será que a média de nota entre homens e mulheres é a mesma? Ou podemos notar desempenhos diferentes?    \n",
    "    6. Será que a média da nota dos alunos muda confirma a faixa de idade que pertence? (será que quanto mais velhos ou mais novos nos dedicamos mais aos estudos?    \n",
    "    7. Será que a média da nota dos alunos muda confirma a faixa de idade que pertence e mais o gênero??     \n",
    "    8. Será que os professores da ASN são igualmente avaliados? (aluno ter preferência é bom pro ego e produtividade do professor, mas é bem ruim para empresa, pois limita as opções, certo?)    \n",
    "    9. Será que o número médio de novos alunos muda de turma para turma? Ou estamos constantes?    \n",
    "    10. Quais são as idades das turmas que trabalhamos? Entre nossos cursos a média das idades é a mesma ou temos cursos que são de mais jovens ou mais experientes?    \n",
    "    11. Será que alguns de nossos cursos são mais adotados por iniciantes, juniores, plenos ou seniores?    \n",
    "    12. Será que após nossos cursos, os alunos mudam seus desempenhos de notas em testes relacionados à ciência de dados?    \n",
    "    13. Será que conforme a estação do anos, os alunos mudam a quantidade de trabalhos entregues?    \n",
    "    14. Será que determinada forma de ministrar uma aula aumenta o desempenho do alunos nos cases propostos?    \n",
    "    15. Será que os alunos estão dispostos a adotar boas práticas no dia a dia do seu trabalho com dados? Qual boa prática estão mais dispostos a adotar?    \n",
    "    16. Será que ao longo do curso os alunos vão evoulindo o seu desempenho em notas? Antes do curso, Durante o curso e após o curso?    "
   ]
  },
  {
   "cell_type": "markdown",
   "metadata": {},
   "source": [
    "### <code style=\"color:green\">Testes Estatísticos </code>\n",
    "    \n",
    "    Testes estatísticos são divididos em 2 grandes grupos:\n",
    "   * Testes paramétricos\n",
    "        * envolvem parâmetros populacionais para dados quantitativos\n",
    "        * são mais robustos (acendem a luz)\n",
    "        * tem regras para serem utilizados\n",
    "    \n",
    "   * Testes não paramétricos\n",
    "        * as hipóteses sao formuladas sobre características qualitativas da população\n",
    "        * são menos robustos (acendem uma vela)\n",
    "        * são testes livres de distribuição (sem regras)\n",
    "    \n",
    "    \n",
    "    Existem muitos testes, conheceremos os mais utilizados. Veja conforme o mapa mental (arquivo em pdf):\n",
    "\n",
    "    "
   ]
  },
  {
   "attachments": {
    "mapa_pequeno.JPG": {
     "image/jpeg": "[encoded data removed]"
    }
   },
   "cell_type": "markdown",
   "metadata": {},
   "source": [
    "![mapa_pequeno.JPG](attachment:mapa_pequeno.JPG)"
   ]
  },
  {
   "cell_type": "markdown",
   "metadata": {},
   "source": [
    "Carregando o que será necessário:"
   ]
  },
  {
   "cell_type": "code",
   "execution_count": 10,
   "metadata": {},
   "outputs": [],
   "source": [
    "import scipy.stats as stats\n",
    "import numpy as np\n",
    "import pandas as pd\n",
    "import matplotlib.pyplot as plt\n",
    "import seaborn as sns\n",
    "import statsmodels as statsmodels\n",
    "from scipy.stats import chi2_contingency\n",
    "from statsmodels.stats.contingency_tables import mcnemar\n",
    "from statsmodels.formula.api import ols\n",
    "from statsmodels.stats.anova import anova_lm"
   ]
  },
  {
   "cell_type": "markdown",
   "metadata": {},
   "source": [
    "### <code style=\"color:green\">Testes Estatísticos Não Paramétricos </code>\n",
    "    \n",
    "Testes Não Paramétricos, as hipóteses são formuladas sobre características qualitativas da população!!   </BR>\n",
    "Estes tem muito menos suposições e por isso são chamados de testes livres de distribuição!   </BR>\n",
    "São bem menos robustos que os paramétricos (mas quando não se tem cão, caca-se com gato, certo?!?!?!)   </BR>\n",
    "\n",
    "* Teste para uma amostra\n",
    "    1. Teste binomial (binario)\n",
    "    2. Teste qui-quadrado (nominal ou ordinal)\n",
    "        \n",
    "        \n",
    "* Teste para 2 amostras emparelhadas (emparelhadas significa antes e depois) \n",
    "    3. Teste McNemar (binario)       \n",
    "    4. Teste Wilcoxon (ordinal)\n",
    "    \n",
    "                      \n",
    "* Teste para 2 amostras independentes\n",
    "    5. Teste qui-quadrado (nominal ou ordinal)     \n",
    "    6. Teste dos Mann-Whitney (ordinal)\n",
    "    \n",
    "                           \n",
    "* Teste para k amostras emparelhadas (emparelhadas significa antes e depois)\n",
    "    7. Teste de Friedman (ordinal)\n",
    "    \n",
    "       \n",
    "* Teste para k amostras independentes\n",
    "    8. Teste qui-quadrado (nominal ou ordinal)        \n",
    "    9. Teste de Kruskal Wallis (ordinal)  "
   ]
  },
  {
   "cell_type": "markdown",
   "metadata": {},
   "source": [
    "### <code style=\"color:green\">1) Teste Binomial </code>\n",
    "    \n",
    " * Teste para uma amostra, com dados binários.\n",
    "     * Testa-se a proporção da população. Ela é igual, maior ou menor que um determinado valor?\n",
    "                 H0: p = p_0\n",
    "                 H1: p != p_0"
   ]
  },
  {
   "cell_type": "markdown",
   "metadata": {},
   "source": [
    "### <code style=\"color:red\">Exemplo </code>\n",
    "    \n",
    "ASN.Rocks aplicou 2 métodos de ensino (metodo_A e metodo_B) e no final o aluno escolheu o melhor método.\n",
    "ASN.Rocks espera que não exista diferença entre os métodos, pois os métodos são aplicados por professores diferentes.\n",
    "\n",
    "Os dados estão no arquivo metodos.xlsx"
   ]
  },
  {
   "cell_type": "markdown",
   "metadata": {},
   "source": [
    "#### <code style=\"color:purple\">Dica: </code>\n",
    "\n",
    "- Repare que existem apenas duas opções (metodo_A e metodo_B) - logo, BINÁRIO\n",
    "- Repare que só existe uma amostra (não se tem intenção de comparar grupos e sim inferir sobre a população)\n",
    "- Se a intenção é que os métodos sejam aceitos da mesma forma, então deve-se testar se p = 0,5\n",
    "\n",
    "Pronto, agora já sabemos que teste usar e como configurar as hipóteses\n",
    "Realizar Teste Binomial\n",
    "\n",
    "H0: p = 0,5   \n",
    "H1: p != 0,5   \n",
    "\n",
    "stats.binom_test(*numero_sucessos*, n=*numero_total*, p=*sua_hipotese*)"
   ]
  },
  {
   "cell_type": "code",
   "execution_count": 11,
   "metadata": {},
   "outputs": [
    {
     "data": {
      "text/html": [
       "<div>\n",
       "<style scoped>\n",
       "    .dataframe tbody tr th:only-of-type {\n",
       "        vertical-align: middle;\n",
       "    }\n",
       "\n",
       "    .dataframe tbody tr th {\n",
       "        vertical-align: top;\n",
       "    }\n",
       "\n",
       "    .dataframe thead th {\n",
       "        text-align: right;\n",
       "    }\n",
       "</style>\n",
       "<table border=\"1\" class=\"dataframe\">\n",
       "  <thead>\n",
       "    <tr style=\"text-align: right;\">\n",
       "      <th></th>\n",
       "      <th>aluno</th>\n",
       "      <th>escolha</th>\n",
       "    </tr>\n",
       "  </thead>\n",
       "  <tbody>\n",
       "    <tr>\n",
       "      <th>0</th>\n",
       "      <td>1</td>\n",
       "      <td>metodo_A</td>\n",
       "    </tr>\n",
       "    <tr>\n",
       "      <th>1</th>\n",
       "      <td>2</td>\n",
       "      <td>metodo_B</td>\n",
       "    </tr>\n",
       "    <tr>\n",
       "      <th>2</th>\n",
       "      <td>3</td>\n",
       "      <td>metodo_B</td>\n",
       "    </tr>\n",
       "    <tr>\n",
       "      <th>3</th>\n",
       "      <td>4</td>\n",
       "      <td>metodo_A</td>\n",
       "    </tr>\n",
       "    <tr>\n",
       "      <th>4</th>\n",
       "      <td>5</td>\n",
       "      <td>metodo_A</td>\n",
       "    </tr>\n",
       "  </tbody>\n",
       "</table>\n",
       "</div>"
      ],
      "text/plain": [
       "   aluno   escolha\n",
       "0      1  metodo_A\n",
       "1      2  metodo_B\n",
       "2      3  metodo_B\n",
       "3      4  metodo_A\n",
       "4      5  metodo_A"
      ]
     },
     "execution_count": 11,
     "metadata": {},
     "output_type": "execute_result"
    }
   ],
   "source": [
    "# importando o arquivo\n",
    "metodos = pd.read_excel(\"dados/metodos.xlsx\")\n",
    "metodos.head()"
   ]
  },
  {
   "cell_type": "code",
   "execution_count": 12,
   "metadata": {},
   "outputs": [
    {
     "data": {
      "text/html": [
       "<div>\n",
       "<style scoped>\n",
       "    .dataframe tbody tr th:only-of-type {\n",
       "        vertical-align: middle;\n",
       "    }\n",
       "\n",
       "    .dataframe tbody tr th {\n",
       "        vertical-align: top;\n",
       "    }\n",
       "\n",
       "    .dataframe thead th {\n",
       "        text-align: right;\n",
       "    }\n",
       "</style>\n",
       "<table border=\"1\" class=\"dataframe\">\n",
       "  <thead>\n",
       "    <tr style=\"text-align: right;\">\n",
       "      <th></th>\n",
       "      <th>escolha</th>\n",
       "      <th>aluno</th>\n",
       "    </tr>\n",
       "  </thead>\n",
       "  <tbody>\n",
       "    <tr>\n",
       "      <th>0</th>\n",
       "      <td>metodo_A</td>\n",
       "      <td>18</td>\n",
       "    </tr>\n",
       "    <tr>\n",
       "      <th>1</th>\n",
       "      <td>metodo_B</td>\n",
       "      <td>12</td>\n",
       "    </tr>\n",
       "  </tbody>\n",
       "</table>\n",
       "</div>"
      ],
      "text/plain": [
       "    escolha  aluno\n",
       "0  metodo_A     18\n",
       "1  metodo_B     12"
      ]
     },
     "execution_count": 12,
     "metadata": {},
     "output_type": "execute_result"
    }
   ],
   "source": [
    "# contando quantos são do A e do B\n",
    "metodos[['aluno', 'escolha']].groupby('escolha').agg({'aluno':'count'}).reset_index()"
   ]
  },
  {
   "cell_type": "code",
   "execution_count": 13,
   "metadata": {},
   "outputs": [
    {
     "data": {
      "text/plain": [
       "0.361594608053565"
      ]
     },
     "execution_count": 13,
     "metadata": {},
     "output_type": "execute_result"
    }
   ],
   "source": [
    "# simplesmente criando objetos que contenham essas contagens\n",
    "n_sucesso = metodos['escolha'][metodos['escolha']==\"metodo_A\"].count()\n",
    "n_total = metodos['escolha'].count()\n",
    "\n",
    "# solicitando o teste binomial\n",
    "# H0: p = 0,5   \n",
    "# H1: p != 0,5\n",
    "\n",
    "stats.binom_test(n_sucesso, n=n_total, p=0.5)\n",
    "\n",
    "# como p-valor maior que alpha, não rejeitamos H0, ou seja, não existe diferença entre os métodos de ensino"
   ]
  },
  {
   "cell_type": "code",
   "execution_count": 14,
   "metadata": {},
   "outputs": [
    {
     "data": {
      "text/plain": [
       "0.361594608053565"
      ]
     },
     "execution_count": 14,
     "metadata": {},
     "output_type": "execute_result"
    }
   ],
   "source": [
    "stats.binom_test(12, n=30, p=0.5)\n",
    "# stats.binom_test( 12, n = 30,  p =0.5)"
   ]
  },
  {
   "cell_type": "markdown",
   "metadata": {},
   "source": [
    "### <code style=\"color:green\">2) Teste Qui-Quadrado </code>\n",
    "    \n",
    " * Nada mais que um teste para comprar frequências observadas, com a frequência média (que chamamos de esperadas)!\n",
    "     * Testa-se as frequências observadas e esperadas:   \n",
    "         H0: frequência observada = frequência esperada (nada mais do que o comportamento esperado)   \n",
    "         H1: frequência observada != frequência esperada (algo acontece, que se vê um comportamento diferente do esperado)"
   ]
  },
  {
   "cell_type": "markdown",
   "metadata": {},
   "source": [
    "### <code style=\"color:red\">Exemplo </code>\n",
    "    \n",
    "Senhor Prezz é dono de uma indústria que vende seu produto em 3 cidades do seu estado.   \n",
    "E, determinado dia, se questionou se o volume das vendas é o mesmo em todas as cidades ou se existem diferenças significativas.   \n",
    "Vamos ajudá-lo?   \n",
    "Ele nos disse que na cidade de Betim, vendeu 450 unidades. Em Mariana vendeu 480 e em Diamantina 490 unidades."
   ]
  },
  {
   "cell_type": "markdown",
   "metadata": {},
   "source": [
    "#### <code style=\"color:purple\">Dica: </code>\n",
    "\n",
    "- Repare que é apenas uma variável categórica (cidades)\n",
    "- A única coisa que temos delas são as frequências com que apareceram nas vendas\n",
    "- Como ele quer saber se existem diferenças das vendas entre as cidades, basta compará-las entre si (média geral)\n",
    "- Teste qui-quadrado"
   ]
  },
  {
   "cell_type": "code",
   "execution_count": 15,
   "metadata": {},
   "outputs": [
    {
     "data": {
      "text/plain": [
       "Power_divergenceResult(statistic=1.8309859154929577, pvalue=0.40031923697363814)"
      ]
     },
     "execution_count": 15,
     "metadata": {},
     "output_type": "execute_result"
    }
   ],
   "source": [
    "# primeiro vamos criar uma lista com esses 3 valores informados\n",
    "prezz=[450, 480,490]\n",
    "stats.chisquare(prezz)\n",
    "# como p-valor maior que alpha, não rejeita-se H0, ou seja, ele vende da mesma forma nas 3 cidades."
   ]
  },
  {
   "cell_type": "markdown",
   "metadata": {},
   "source": [
    "### <code style=\"color:green\">3) Teste McNemar </code>\n",
    "    \n",
    " * Para dados Binários   \n",
    " * Teste para duas amostras emparelhadas (antes e depois)\n",
    "     * Testa-se as frequências que deveriam mudar, mudaram:   \n",
    "        H0: As probabilidades das celulas [i,j] e [j,i] são iguais (não faz diferença)   \n",
    "        H1: As probabilidades das celulas [i,j] e [j,i] são diferentes (faz diferença)"
   ]
  },
  {
   "cell_type": "markdown",
   "metadata": {},
   "source": [
    "### <code style=\"color:red\">Exemplo </code>\n",
    "    \n",
    "Antes da pandemia a ASN.Rocks tinha turmas presenciais. \n",
    "Visto o coronga, mudamos tudo para online e assim ficamos!\n",
    "\n",
    "Como de costume a ASN sempre pergunta se o aluno gosta ou não gosta das aulas.\n",
    "E para os mesmos alunos, analisou-se as respostas na última aula antes da pandemia e a primeira depois da pandemia\n",
    "\n",
    "A base de dados tem o nome: coronga.xlsx"
   ]
  },
  {
   "cell_type": "markdown",
   "metadata": {},
   "source": [
    "#### <code style=\"color:purple\">Dica: </code>\n",
    "\n",
    "- Repare que é a mesma unidade amostral (aluno), que responde a questão em dois momentos diferentes (emparelhado)\n",
    "- Só existem duas opções de escolha (Gosto ou Não Gosto) - Binário\n",
    "- O foco está em saber se existiu mudança após algo (nesse caso, mudança para aula online)\n",
    "- Teste MCNemar"
   ]
  },
  {
   "cell_type": "code",
   "execution_count": 16,
   "metadata": {},
   "outputs": [
    {
     "data": {
      "text/html": [
       "<div>\n",
       "<style scoped>\n",
       "    .dataframe tbody tr th:only-of-type {\n",
       "        vertical-align: middle;\n",
       "    }\n",
       "\n",
       "    .dataframe tbody tr th {\n",
       "        vertical-align: top;\n",
       "    }\n",
       "\n",
       "    .dataframe thead th {\n",
       "        text-align: right;\n",
       "    }\n",
       "</style>\n",
       "<table border=\"1\" class=\"dataframe\">\n",
       "  <thead>\n",
       "    <tr style=\"text-align: right;\">\n",
       "      <th></th>\n",
       "      <th>Aluno</th>\n",
       "      <th>Opiniao_Antes</th>\n",
       "      <th>Opiniao_Depois</th>\n",
       "    </tr>\n",
       "  </thead>\n",
       "  <tbody>\n",
       "    <tr>\n",
       "      <th>0</th>\n",
       "      <td>A1</td>\n",
       "      <td>Gosto</td>\n",
       "      <td>Gosto</td>\n",
       "    </tr>\n",
       "    <tr>\n",
       "      <th>1</th>\n",
       "      <td>A2</td>\n",
       "      <td>Gosto</td>\n",
       "      <td>Gosto</td>\n",
       "    </tr>\n",
       "    <tr>\n",
       "      <th>2</th>\n",
       "      <td>A3</td>\n",
       "      <td>Gosto</td>\n",
       "      <td>Gosto</td>\n",
       "    </tr>\n",
       "    <tr>\n",
       "      <th>3</th>\n",
       "      <td>A4</td>\n",
       "      <td>Gosto</td>\n",
       "      <td>Gosto</td>\n",
       "    </tr>\n",
       "    <tr>\n",
       "      <th>4</th>\n",
       "      <td>A5</td>\n",
       "      <td>Não Gosto</td>\n",
       "      <td>Gosto</td>\n",
       "    </tr>\n",
       "  </tbody>\n",
       "</table>\n",
       "</div>"
      ],
      "text/plain": [
       "  Aluno Opiniao_Antes Opiniao_Depois\n",
       "0    A1         Gosto          Gosto\n",
       "1    A2         Gosto          Gosto\n",
       "2    A3         Gosto          Gosto\n",
       "3    A4         Gosto          Gosto\n",
       "4    A5     Não Gosto          Gosto"
      ]
     },
     "execution_count": 16,
     "metadata": {},
     "output_type": "execute_result"
    }
   ],
   "source": [
    "# importando o arquivo\n",
    "coronga = pd.read_excel(\"dados/coronga.xlsx\")\n",
    "coronga.head()"
   ]
  },
  {
   "cell_type": "code",
   "execution_count": 17,
   "metadata": {},
   "outputs": [
    {
     "data": {
      "text/html": [
       "<div>\n",
       "<style scoped>\n",
       "    .dataframe tbody tr th:only-of-type {\n",
       "        vertical-align: middle;\n",
       "    }\n",
       "\n",
       "    .dataframe tbody tr th {\n",
       "        vertical-align: top;\n",
       "    }\n",
       "\n",
       "    .dataframe thead th {\n",
       "        text-align: right;\n",
       "    }\n",
       "</style>\n",
       "<table border=\"1\" class=\"dataframe\">\n",
       "  <thead>\n",
       "    <tr style=\"text-align: right;\">\n",
       "      <th>Opiniao_Depois</th>\n",
       "      <th>Gosto</th>\n",
       "      <th>Não Gosto</th>\n",
       "    </tr>\n",
       "    <tr>\n",
       "      <th>Opiniao_Antes</th>\n",
       "      <th></th>\n",
       "      <th></th>\n",
       "    </tr>\n",
       "  </thead>\n",
       "  <tbody>\n",
       "    <tr>\n",
       "      <th>Gosto</th>\n",
       "      <td>76</td>\n",
       "      <td>6</td>\n",
       "    </tr>\n",
       "    <tr>\n",
       "      <th>Não Gosto</th>\n",
       "      <td>7</td>\n",
       "      <td>1</td>\n",
       "    </tr>\n",
       "  </tbody>\n",
       "</table>\n",
       "</div>"
      ],
      "text/plain": [
       "Opiniao_Depois  Gosto  Não Gosto\n",
       "Opiniao_Antes                   \n",
       "Gosto              76          6\n",
       "Não Gosto           7          1"
      ]
     },
     "execution_count": 17,
     "metadata": {},
     "output_type": "execute_result"
    }
   ],
   "source": [
    "mc =pd.crosstab(coronga['Opiniao_Antes'], coronga['Opiniao_Depois'], margins = False)\n",
    "mc"
   ]
  },
  {
   "cell_type": "code",
   "execution_count": 12,
   "metadata": {},
   "outputs": [
    {
     "data": {
      "text/plain": [
       "array([[76,  6],\n",
       "       [ 7,  1]], dtype=int64)"
      ]
     },
     "execution_count": 12,
     "metadata": {},
     "output_type": "execute_result"
    }
   ],
   "source": [
    "# criando a tabela de contingência\n",
    "mc = coronga.groupby(['Opiniao_Antes', 'Opiniao_Depois']).size().unstack(1)\n",
    "# transformando em array (forma como o teste recebe a informação)\n",
    "mct = np.array(mc)\n",
    "mct\n",
    "# outra forma de fazer a mesma coisa\n",
    "# mc =pd.crosstab(coronga['Opiniao_Antes'], coronga['Opiniao_Depois'], margins = False)\n",
    "# mct = np.array(mc)\n",
    "# mct"
   ]
  },
  {
   "cell_type": "code",
   "execution_count": 13,
   "metadata": {},
   "outputs": [
    {
     "name": "stdout",
     "output_type": "stream",
     "text": [
      "p-value=  0.9999999999999999\n"
     ]
    }
   ],
   "source": [
    "# Realizando o teste MCNemar\n",
    "# H0: a mudança não faz diferença\n",
    "# H1: a mudança faz diferença\n",
    "teste = mcnemar(mct)\n",
    "print(\"p-value= \" , teste.pvalue)\n",
    "\n",
    "# como p-valor maior que alpha, não rejeitamos H0, ou seja, não fez diferença a aula ter migrado para online"
   ]
  },
  {
   "cell_type": "markdown",
   "metadata": {},
   "source": [
    "### <code style=\"color:green\">4) Teste Wilcoxon </code>\n",
    "    \n",
    " * Para dados Ordinais\n",
    " * Teste para duas amostras emparelhadas (antes e depois)\n",
    " * Pode ser uma alternativa para o teste t de duas amostras emparelhadas, quando o pressuposto não é sanado!\n",
    " * Neste caso, repare que os dados quantitativos são transformados em ordinais, logo, perca de poder!!!\n",
    "        H0: mediana_antes - mediana_depois = 0\n",
    "        H1: mediana_antes - mediana_depois <> 0"
   ]
  },
  {
   "cell_type": "markdown",
   "metadata": {},
   "source": [
    "### <code style=\"color:red\">Exemplo </code>\n",
    "    \n",
    "Os alunos da ASN.Rocks foram submetidos a um teste antes do curso   \n",
    "e após o curso, para verificar se o curso acrescentou valor.   \n",
    "Nosso interesse é saber se a nota pós curso melhorou.   \n",
    "\n",
    "Arquivo: notas_alunos_antes_depois.xlsx"
   ]
  },
  {
   "cell_type": "markdown",
   "metadata": {},
   "source": [
    "#### <code style=\"color:purple\">Dica: </code>\n",
    "\n",
    "- Repare que é a mesma unidade amostral (aluno), em que a nota foi avaliada (emparelhado)\n",
    "- É uma variável quantitativa, a melhor opção seria teste paramétrico\n",
    "- Importante testar normalidade, se não for:\n",
    "- Teste Wilcoxon"
   ]
  },
  {
   "cell_type": "code",
   "execution_count": 22,
   "metadata": {},
   "outputs": [
    {
     "data": {
      "text/html": [
       "<div>\n",
       "<style scoped>\n",
       "    .dataframe tbody tr th:only-of-type {\n",
       "        vertical-align: middle;\n",
       "    }\n",
       "\n",
       "    .dataframe tbody tr th {\n",
       "        vertical-align: top;\n",
       "    }\n",
       "\n",
       "    .dataframe thead th {\n",
       "        text-align: right;\n",
       "    }\n",
       "</style>\n",
       "<table border=\"1\" class=\"dataframe\">\n",
       "  <thead>\n",
       "    <tr style=\"text-align: right;\">\n",
       "      <th></th>\n",
       "      <th>notas_antes</th>\n",
       "      <th>notas_depois</th>\n",
       "    </tr>\n",
       "  </thead>\n",
       "  <tbody>\n",
       "    <tr>\n",
       "      <th>0</th>\n",
       "      <td>36</td>\n",
       "      <td>40</td>\n",
       "    </tr>\n",
       "    <tr>\n",
       "      <th>1</th>\n",
       "      <td>39</td>\n",
       "      <td>41</td>\n",
       "    </tr>\n",
       "    <tr>\n",
       "      <th>2</th>\n",
       "      <td>27</td>\n",
       "      <td>40</td>\n",
       "    </tr>\n",
       "    <tr>\n",
       "      <th>3</th>\n",
       "      <td>41</td>\n",
       "      <td>45</td>\n",
       "    </tr>\n",
       "    <tr>\n",
       "      <th>4</th>\n",
       "      <td>40</td>\n",
       "      <td>39</td>\n",
       "    </tr>\n",
       "  </tbody>\n",
       "</table>\n",
       "</div>"
      ],
      "text/plain": [
       "   notas_antes  notas_depois\n",
       "0           36            40\n",
       "1           39            41\n",
       "2           27            40\n",
       "3           41            45\n",
       "4           40            39"
      ]
     },
     "execution_count": 22,
     "metadata": {},
     "output_type": "execute_result"
    }
   ],
   "source": [
    "# importando o arquivo\n",
    "notas_alunos = pd.read_excel(\"dados/notas_alunos_antes_depois.xlsx\")\n",
    "notas_alunos.head()"
   ]
  },
  {
   "cell_type": "code",
   "execution_count": 24,
   "metadata": {},
   "outputs": [
    {
     "name": "stdout",
     "output_type": "stream",
     "text": [
      "Rejeito Hipótese nula, sendo assim os dados não são normais\n",
      "Rejeito Hipótese nula, sendo assim os dados não são normais\n"
     ]
    }
   ],
   "source": [
    "# Como o ideal é realizar o teste t, precisamos validar normalidade\n",
    "norm_antes = stats.shapiro(notas_alunos[\"notas_antes\"])\n",
    "norm_antes.pvalue\n",
    "\n",
    "if (norm_antes.pvalue < 0.05):\n",
    "    print (\"Rejeito Hipótese nula, sendo assim os dados não são normais\")\n",
    "else:\n",
    "    print (\"Não Rejeito Hipótese nula, ou seja, os dados são normais\")\n",
    "\n",
    "norm_depois = stats.shapiro(notas_alunos[\"notas_depois\"])\n",
    "norm_depois.pvalue\n",
    "\n",
    "if (norm_depois.pvalue < 0.05):\n",
    "    print (\"Rejeito Hipótese nula, sendo assim os dados não são normais\")\n",
    "else:\n",
    "    print (\"Não Rejeito Hipótese nula, ou seja, os dados são normais\")"
   ]
  },
  {
   "cell_type": "code",
   "execution_count": 7,
   "metadata": {},
   "outputs": [
    {
     "name": "stdout",
     "output_type": "stream",
     "text": [
      "Rejeito Hipótese nula, ou seja, a média da nota antes é menor que a média da nota depois\n"
     ]
    }
   ],
   "source": [
    "# Como os dados não são normais, devemos partir para o teste não paramétrico - Wilcoxon\n",
    "# H0: mu_nota_antes = mu_nota_depois\n",
    "# H1: mu_nota_antes < mu_nota_depois\n",
    "wil = stats.wilcoxon(notas_alunos[\"notas_antes\"], notas_alunos[\"notas_depois\"], alternative=\"less\")\n",
    "\n",
    "if (wil.pvalue < 0.05):\n",
    "    print (\"Rejeito Hipótese nula, ou seja, a média da nota antes é menor que a média da nota depois\")\n",
    "else:\n",
    "    print (\"Não Rejeito Hipótese nula, ou seja, as notas não mudaram após o curso\")"
   ]
  },
  {
   "cell_type": "code",
   "execution_count": 8,
   "metadata": {},
   "outputs": [
    {
     "name": "stdout",
     "output_type": "stream",
     "text": [
      "Rejeito Hipótese nula, ou seja, a média da nota depois é maior que a média da nota antes\n"
     ]
    }
   ],
   "source": [
    "# outra forma de fazer a mesma coisa, mudando a pergunta\n",
    "# H0: mu_nota_depois = mu_nota_antes\n",
    "# H1: mu_nota_depois > mu_nota_antes\n",
    "wil = stats.wilcoxon(notas_alunos[\"notas_depois\"],notas_alunos[\"notas_antes\"], alternative=\"greater\")\n",
    "\n",
    "if (wil.pvalue < 0.05):\n",
    "    print (\"Rejeito Hipótese nula, ou seja, a média da nota depois é maior que a média da nota antes\")\n",
    "else:\n",
    "    print (\"Não Rejeito Hipótese nula, ou seja, as notas não mudaram após o curso\")"
   ]
  },
  {
   "cell_type": "markdown",
   "metadata": {},
   "source": [
    "### <code style=\"color:green\">5) Teste Qui-Quadrado </code>\n",
    "    \n",
    " * Nada mais que um teste para comprar frequências observadas, com a frequência média (que chamamos de esperadas)!\n",
    " * O mesmo teste anterior, mas agora com 2 amostras\n",
    " * Teste para amostras independentes\n",
    "     * Testa-se as frequências observadas e esperadas:   \n",
    "         H0: frequência observada = frequência esperada (não existe associção - é igual à média ponderada)   \n",
    "         H1: frequência observada != frequência esperada (existe associção - não é igual à média ponderada)"
   ]
  },
  {
   "cell_type": "markdown",
   "metadata": {},
   "source": [
    "### <code style=\"color:red\">Exemplo </code>\n",
    "     \n",
    "Após uma determinada campanha de marketing, oferecemos nosso produto.   \n",
    "Será que o gênero (Fem / Masc) influência na compra ou não compra do nosso produto?\n",
    "\n",
    "arquivo: compra.xlsx\n"
   ]
  },
  {
   "cell_type": "markdown",
   "metadata": {},
   "source": [
    "#### <code style=\"color:purple\">Dica: </code>\n",
    "\n",
    "- Repare que são duas variáveis categóricas\n",
    "- São independentes\n",
    "- Teste qui-quadrado"
   ]
  },
  {
   "cell_type": "code",
   "execution_count": 14,
   "metadata": {},
   "outputs": [
    {
     "data": {
      "text/html": [
       "<div>\n",
       "<style scoped>\n",
       "    .dataframe tbody tr th:only-of-type {\n",
       "        vertical-align: middle;\n",
       "    }\n",
       "\n",
       "    .dataframe tbody tr th {\n",
       "        vertical-align: top;\n",
       "    }\n",
       "\n",
       "    .dataframe thead th {\n",
       "        text-align: right;\n",
       "    }\n",
       "</style>\n",
       "<table border=\"1\" class=\"dataframe\">\n",
       "  <thead>\n",
       "    <tr style=\"text-align: right;\">\n",
       "      <th></th>\n",
       "      <th>Compra</th>\n",
       "      <th>Genero</th>\n",
       "    </tr>\n",
       "  </thead>\n",
       "  <tbody>\n",
       "    <tr>\n",
       "      <th>0</th>\n",
       "      <td>Compra</td>\n",
       "      <td>Feminino</td>\n",
       "    </tr>\n",
       "    <tr>\n",
       "      <th>1</th>\n",
       "      <td>Compra</td>\n",
       "      <td>Feminino</td>\n",
       "    </tr>\n",
       "    <tr>\n",
       "      <th>2</th>\n",
       "      <td>Compra</td>\n",
       "      <td>Feminino</td>\n",
       "    </tr>\n",
       "    <tr>\n",
       "      <th>3</th>\n",
       "      <td>Compra</td>\n",
       "      <td>Feminino</td>\n",
       "    </tr>\n",
       "    <tr>\n",
       "      <th>4</th>\n",
       "      <td>Compra</td>\n",
       "      <td>Feminino</td>\n",
       "    </tr>\n",
       "  </tbody>\n",
       "</table>\n",
       "</div>"
      ],
      "text/plain": [
       "   Compra    Genero\n",
       "0  Compra  Feminino\n",
       "1  Compra  Feminino\n",
       "2  Compra  Feminino\n",
       "3  Compra  Feminino\n",
       "4  Compra  Feminino"
      ]
     },
     "execution_count": 14,
     "metadata": {},
     "output_type": "execute_result"
    }
   ],
   "source": [
    "# importando o arquivo\n",
    "compra = pd.read_excel(\"dados/compra.xlsx\")\n",
    "compra.head()"
   ]
  },
  {
   "cell_type": "code",
   "execution_count": 15,
   "metadata": {},
   "outputs": [
    {
     "data": {
      "text/plain": [
       "array([[46, 13],\n",
       "       [10, 11]], dtype=int64)"
      ]
     },
     "execution_count": 15,
     "metadata": {},
     "output_type": "execute_result"
    }
   ],
   "source": [
    "# criando a tabela de contingência\n",
    "com = compra.groupby(['Compra', 'Genero']).size().unstack(1)\n",
    "# transformando em array (forma como o teste recebe a informação)\n",
    "comt = np.array(com)\n",
    "comt\n",
    "# outra forma de fazer a mesma coisa\n",
    "# com =pd.crosstab(compra['Compra'], compra['Genero'], margins = False)\n",
    "# comt = np.array(com)\n",
    "# comt"
   ]
  },
  {
   "cell_type": "code",
   "execution_count": 16,
   "metadata": {},
   "outputs": [
    {
     "name": "stdout",
     "output_type": "stream",
     "text": [
      "Estatística Qui 5.423728813559322 \n",
      " P-Valor 0.019864891770082674\n"
     ]
    }
   ],
   "source": [
    "# Realizando o teste qui-quadrado\n",
    "# H0: não existe associação\n",
    "# H1: existe associação\n",
    "chi2_stat, p_val, dof, ex = stats.chi2_contingency(comt)\n",
    "print(\"Estatística Qui\", chi2_stat, \"\\n P-Valor\", p_val)\n",
    "\n",
    "# como p-valor menor que alpha, rejeitamos H0, ou seja, existe associação entre gênero e a compra"
   ]
  },
  {
   "cell_type": "markdown",
   "metadata": {},
   "source": [
    "### <code style=\"color:green\">6) Teste Mann-Whitney </code>\n",
    "    \n",
    " * Teste para duas amostras independentes, dados ordinais\n",
    " * Logo, é o teste para ser usado quando o teste t de duas amostras independentes não pode ser aplicado\n",
    " * Teste para duas amostras independentes\n",
    " * É o teste de Wilcoxon para amostras independentes   \n",
    "     H0: mediana_A - mediana_B = 0   \n",
    "     H1: mediana_A - mediana_B != 0"
   ]
  },
  {
   "cell_type": "markdown",
   "metadata": {},
   "source": [
    "### <code style=\"color:red\"> Prática </code>\n",
    " \n",
    "Testou-se um remédio para aumentar a tiroxina no sangue   \n",
    "Fez-se um experimento, com duas amostras: uma que tomou o placebo e outra que tomou o remedio   \n",
    "O remédio funciona (realmente aumenta o número de tiroxina no sangue)?\n",
    "\n",
    "arquivo: tiroxina.xlsx"
   ]
  },
  {
   "cell_type": "markdown",
   "metadata": {},
   "source": [
    "#### <code style=\"color:purple\">Dica: </code>\n",
    "\n",
    "- Repare que são dados quantitativos, ou seja, devemos começar tentando um teste paramétrico\n",
    "- Caso não seja possível, desenhe H0 e H1 antes de pedir o teste\n",
    "- Documente seus passos e faça a interpretação\n",
    "- O código desse teste é:\n",
    "stats.mannwhitneyu(efeito_A, efeito_B, alternative='greater' ou alternative='less')"
   ]
  },
  {
   "cell_type": "markdown",
   "metadata": {},
   "source": [
    "### <code style=\"color:green\">7) Teste de Friedman </code>\n",
    "    \n",
    " * Teste para k amostras emparelhadas para dados ordinais\n",
    " * Alternativa para quando a ANOVA não pode ser aplicada\n",
    " * É a extensão do teste de Wilcoxon    \n",
    "     H0: mediana_Antes = mediana_Durante = mediana_Depois   \n",
    "     H1: pelo menos um é diferente"
   ]
  },
  {
   "cell_type": "markdown",
   "metadata": {},
   "source": [
    "### <code style=\"color:red\"> Exemplo </code>\n",
    " \n",
    "Um médico está proponto um novo tratamento para emagrecimento e precisa provar que o método trás resultados   \n",
    "Para tal, coletou o peso antes, durante e após 3 meses de tratamento e deseja-se saber se existem diferença nas médias\n",
    "\n",
    "arquivo: tratamentos2.xlsx"
   ]
  },
  {
   "cell_type": "markdown",
   "metadata": {},
   "source": [
    "#### <code style=\"color:purple\">Dica: </code>\n",
    "\n",
    "- Repare que são dados quantitativos, pesos, ou seja, devemos começar tentando um teste paramétrico (neste caso uma ANOVA de medida repetidas - emparelhada)\n",
    "- Caso não seja possível, então utilizaremos o teste de Friedman\n",
    "\n",
    "- Aqui vale um comentário: como dito várias vezes em sala de aula, sempre existem considerações. Exemplo: existem artigos que mostram que usar uma ANOVA para dados volumosos mesmo sem ser normal, você encontrará respostas confiáveis. No entanto para quantidade pequenas (como desse exemplo com apenas 15 alunos), os testes não paramétricos acabam sendo bem recomendados.\n"
   ]
  },
  {
   "cell_type": "code",
   "execution_count": 17,
   "metadata": {},
   "outputs": [
    {
     "data": {
      "text/html": [
       "<div>\n",
       "<style scoped>\n",
       "    .dataframe tbody tr th:only-of-type {\n",
       "        vertical-align: middle;\n",
       "    }\n",
       "\n",
       "    .dataframe tbody tr th {\n",
       "        vertical-align: top;\n",
       "    }\n",
       "\n",
       "    .dataframe thead th {\n",
       "        text-align: right;\n",
       "    }\n",
       "</style>\n",
       "<table border=\"1\" class=\"dataframe\">\n",
       "  <thead>\n",
       "    <tr style=\"text-align: right;\">\n",
       "      <th></th>\n",
       "      <th>ID</th>\n",
       "      <th>momento</th>\n",
       "      <th>peso</th>\n",
       "    </tr>\n",
       "  </thead>\n",
       "  <tbody>\n",
       "    <tr>\n",
       "      <th>0</th>\n",
       "      <td>1</td>\n",
       "      <td>Antes_Tratamento</td>\n",
       "      <td>65</td>\n",
       "    </tr>\n",
       "    <tr>\n",
       "      <th>1</th>\n",
       "      <td>2</td>\n",
       "      <td>Antes_Tratamento</td>\n",
       "      <td>89</td>\n",
       "    </tr>\n",
       "    <tr>\n",
       "      <th>2</th>\n",
       "      <td>3</td>\n",
       "      <td>Antes_Tratamento</td>\n",
       "      <td>96</td>\n",
       "    </tr>\n",
       "    <tr>\n",
       "      <th>3</th>\n",
       "      <td>4</td>\n",
       "      <td>Antes_Tratamento</td>\n",
       "      <td>90</td>\n",
       "    </tr>\n",
       "    <tr>\n",
       "      <th>4</th>\n",
       "      <td>5</td>\n",
       "      <td>Antes_Tratamento</td>\n",
       "      <td>70</td>\n",
       "    </tr>\n",
       "  </tbody>\n",
       "</table>\n",
       "</div>"
      ],
      "text/plain": [
       "   ID           momento  peso\n",
       "0   1  Antes_Tratamento    65\n",
       "1   2  Antes_Tratamento    89\n",
       "2   3  Antes_Tratamento    96\n",
       "3   4  Antes_Tratamento    90\n",
       "4   5  Antes_Tratamento    70"
      ]
     },
     "execution_count": 17,
     "metadata": {},
     "output_type": "execute_result"
    }
   ],
   "source": [
    "# importando o arquivo\n",
    "tratamentos2 = pd.read_excel(\"dados/tratamentos2.xlsx\")\n",
    "tratamentos2.head()"
   ]
  },
  {
   "cell_type": "code",
   "execution_count": 18,
   "metadata": {},
   "outputs": [
    {
     "name": "stdout",
     "output_type": "stream",
     "text": [
      "Rejeito Hipótese nula, sendo assim os dados não são normais\n",
      "Rejeito Hipótese nula, sendo assim os dados não são normais\n",
      "Rejeito Hipótese nula, sendo assim os dados não são normais\n"
     ]
    }
   ],
   "source": [
    "# Como o ideal é realizar um teste paramétrico, precisamos validar normalidade\n",
    "norm_antes = stats.shapiro(tratamentos2[\"peso\"][tratamentos2['momento']==\"Antes_Tratamento\"])\n",
    "norm_antes.pvalue\n",
    "\n",
    "if (norm_antes.pvalue < 0.05):\n",
    "    print (\"Rejeito Hipótese nula, sendo assim os dados não são normais\")\n",
    "else:\n",
    "    print (\"Não Rejeito Hipótese nula, ou seja, os dados são normais\")\n",
    "    \n",
    "norm_durante = stats.shapiro(tratamentos2[\"peso\"][tratamentos2['momento']==\"Durante_Tratamento\"])\n",
    "norm_durante.pvalue\n",
    "\n",
    "if (norm_durante.pvalue < 0.05):\n",
    "    print (\"Rejeito Hipótese nula, sendo assim os dados não são normais\")\n",
    "else:\n",
    "    print (\"Não Rejeito Hipótese nula, ou seja, os dados são normais\")\n",
    "\n",
    "norm_depois = stats.shapiro(tratamentos2[\"peso\"][tratamentos2['momento']==\"Apos_3m_tratamento\"])\n",
    "norm_depois.pvalue\n",
    "\n",
    "if (norm_depois.pvalue < 0.05):\n",
    "    print (\"Rejeito Hipótese nula, sendo assim os dados não são normais\")\n",
    "else:\n",
    "    print (\"Não Rejeito Hipótese nula, ou seja, os dados são normais\")"
   ]
  },
  {
   "cell_type": "code",
   "execution_count": 19,
   "metadata": {},
   "outputs": [
    {
     "data": {
      "text/plain": [
       "FriedmanchisquareResult(statistic=27.527272727272713, pvalue=1.0532432302056965e-06)"
      ]
     },
     "execution_count": 19,
     "metadata": {},
     "output_type": "execute_result"
    }
   ],
   "source": [
    "# como os dados não são normais, vamos aplicar o teste não paramétrico de Friedman\n",
    "# H0: mediana_Antes = mediana_Durante = mediana_Depois   \n",
    "# H1: pelo menos um é diferente\n",
    "\n",
    "stats.friedmanchisquare(tratamentos2[\"peso\"][tratamentos2['momento']==\"Antes_Tratamento\"],\n",
    "                        tratamentos2[\"peso\"][tratamentos2['momento']==\"Durante_Tratamento\"],\n",
    "                        tratamentos2[\"peso\"][tratamentos2['momento']==\"Apos_3m_tratamento\"])\n",
    "\n",
    "# como p-valor menor que alpha, rejeitamos H0, ou seja, pelo menos uma das médias é diferente"
   ]
  },
  {
   "cell_type": "code",
   "execution_count": 20,
   "metadata": {},
   "outputs": [
    {
     "data": {
      "text/plain": [
       "<matplotlib.axes._subplots.AxesSubplot at 0x1f4f0f75a90>"
      ]
     },
     "execution_count": 20,
     "metadata": {},
     "output_type": "execute_result"
    },
    {
     "data": {
      "image/png": "[encoded data removed]",
      "text/plain": [
       "<Figure size 432x288 with 1 Axes>"
      ]
     },
     "metadata": {
      "needs_background": "light"
     },
     "output_type": "display_data"
    }
   ],
   "source": [
    "# vamos desenhar o boxplot para ver isso melhor?\n",
    "sns.boxplot(x=\"momento\", y=\"peso\", data=tratamentos2)"
   ]
  },
  {
   "cell_type": "markdown",
   "metadata": {},
   "source": [
    "### <code style=\"color:green\">8) Teste Qui-Quadrado </code>\n",
    "    \n",
    " * Nada mais que um teste para comprar frequências observadas, com a frequência média (que chamamos de esperadas)!\n",
    " * O mesmo teste anterior, mas agora com k amostras \n",
    " * Teste para amostras independentes\n",
    "     * Testa-se as frequências observadas e esperadas:   \n",
    "         H0: frequência observada = frequência esperada    \n",
    "         H1: frequência observada != frequência esperada   \n",
    "     * Ou, da mesma forma:   \n",
    "         H0: não existe associação   \n",
    "         H1: existe associação  "
   ]
  },
  {
   "cell_type": "markdown",
   "metadata": {},
   "source": [
    "### <code style=\"color:red\"> Prática </code>\n",
    " \n",
    "Na nossa fábrica sempre no final de um turno, nós classificamos a produtividade como baixa, média e alta   \n",
    "Fazemos essas anotações para os 4 turnos que acontecem durante um dia de operação   \n",
    "Chamos os turnos de T1, T2, T3 e T4... que nada mais são do que os turnos de 6 em 6 horas que realizamos   \n",
    "\n",
    "arquivo: produtividade.xlsx"
   ]
  },
  {
   "cell_type": "markdown",
   "metadata": {},
   "source": [
    "#### <code style=\"color:purple\">Dica: </code>\n",
    "\n",
    "- Repare que são duas variáveis categóricas com mais de 3 níveis cada\n",
    "- São independentes\n",
    "- Teste qui-quadrado\n",
    "- O código é o mesmo já utilizado"
   ]
  },
  {
   "cell_type": "markdown",
   "metadata": {},
   "source": [
    "### <code style=\"color:green\">9) Teste Kruskal Wallis </code>\n",
    "    \n",
    " * Teste para k amostras independentes, dados ordinais\n",
    " * Logo, é uma alternativa à ANOVA vista em aula, quando as regras são violadas\n",
    " * É a extensão do teste de Mann-Whitney  \n",
    "     H0: mediana_A = mediana_B = mediana_C   \n",
    "     H1: pelo menos 1 diferente \n"
   ]
  },
  {
   "cell_type": "markdown",
   "metadata": {},
   "source": [
    "### <code style=\"color:red\"> Prática </code>\n",
    " \n",
    "Estamos desenvolvendo um componente que tem a missão de aumentar o peso das folhas secas de determinadas plantas   \n",
    "A fim de testar se funcionam (são 2 componentes diferentes), fizemos um experimento onde medimos o peso da folha seca das plantas para aquelas que não usamos nenhum componente, naquelas que usamos o componente 1 (chamamos de tratamento 1 = trt1) e também naquelas que utilizamos o componente 2 (tratamento 2 - trt2).\n",
    "A mediana dos pesos são diferentes?\n",
    "\n",
    "arquivo: PlantGrowth.xlsx"
   ]
  },
  {
   "cell_type": "markdown",
   "metadata": {},
   "source": [
    "#### <code style=\"color:purple\">Dica: </code>\n",
    "\n",
    "- Repare que são dados quantitativos, pesos, ou seja, devemos começar tentando um teste paramétrico (neste caso: ANOVA))\n",
    "- Caso não seja possível, então utilizaremos o teste de Kruskal Wallis\n",
    "\n",
    "- Aqui vale um comentário: como dito várias vezes em sala de aula, sempre existem considerações. Exemplo: existem artigos que mostram que usar uma ANOVA para dados volumosos mesmo sem ser normal, você encontrará respostas confiáveis. No entanto para quantidade pequenas (como desse exemplo com apenas 10 medidas em cada grupo), os testes não paramétricos acabam sendo bem recomendados.\n"
   ]
  }
 ],
 "metadata": {
  "kernelspec": {
   "display_name": "Python 3",
   "language": "python",
   "name": "python3"
  },
  "language_info": {
   "codemirror_mode": {
    "name": "ipython",
    "version": 3
   },
   "file_extension": ".py",
   "mimetype": "text/x-python",
   "name": "python",
   "nbconvert_exporter": "python",
   "pygments_lexer": "ipython3",
   "version": "3.8.8"
  }
 },
 "nbformat": 4,
 "nbformat_minor": 4
}
